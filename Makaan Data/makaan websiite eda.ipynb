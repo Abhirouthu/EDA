{
 "cells": [
  {
   "cell_type": "code",
   "execution_count": 4,
   "id": "183298db",
   "metadata": {},
   "outputs": [],
   "source": [
    "#import libraries\n",
    "import numpy as np\n",
    "import pandas as pd\n",
    "import matplotlib.pyplot as plt\n",
    "import seaborn as sns\n",
    "#libraries for web scrapping\n",
    "import requests\n",
    "from bs4 import BeautifulSoup \n",
    "import re\n",
    "import csv\n"
   ]
  },
  {
   "cell_type": "code",
   "execution_count": 2,
   "id": "5f9d2d22",
   "metadata": {},
   "outputs": [],
   "source": [
    "rates=[]\n",
    "statu=[]\n",
    "Area=[]\n",
    "Ratepersqft=[]\n",
    "localities=[]\n",
    "possession=[]\n",
    "new_resale=[]\n",
    "propert=[]\n",
    "buildername=[]\n",
    "RERA=[]\n",
    "Bathrooms=[]\n",
    "\n",
    "for i in range(1,50):\n",
    "    URL='https://www.makaan.com/listings?beds=1,2,3,3plus&listingType=buy&pageType=LISTINGS_PROPERTY_URLS&cityName=Hyderabad&cityId=12&templateId=MAKAAN_CITY_LISTING_BUY&page={}'.format(i)\n",
    "    page = requests.get(URL)\n",
    "    content=page.content\n",
    "    soup = BeautifulSoup(content,'html.parser')\n",
    "    \n",
    "    PRICE=soup.find_all('td',class_='price')\n",
    "    for i in range(len(PRICE)):\n",
    "        rates.append(PRICE[i].text)\n",
    "        \n",
    "    \n",
    "    status=soup.find_all('td',class_=\"val\")\n",
    "    for i in range(len(status)):\n",
    "        statu.append(status[i].text)   \n",
    "    \n",
    "    \n",
    "    area=soup.find_all('td',class_=\"size\")\n",
    "    for i in range(len(area)):\n",
    "        Area.append(area[i].text)\n",
    "    \n",
    "    \n",
    "    ratepersqft=soup.find_all('td',class_=\"lbl rate\")\n",
    "    for i in range(len(ratepersqft)):\n",
    "        Ratepersqft.append(ratepersqft[i].text)\n",
    "\n",
    "    \n",
    "   \n",
    "    \n",
    "    property_type = soup.find_all('div',class_='title-line')\n",
    "    for i in range(len(property_type)):\n",
    "        propert.append(property_type[i].text)\n",
    "   \n",
    "\n",
    "    locality = soup.find_all('span',itemprop='addressLocality')\n",
    "    for i in range(len(locality)):\n",
    "        localities.append(locality[i].text)\n",
    "        \n",
    "    \n",
    "\n",
    "\n",
    "    BULIDER=soup.find_all('span',itemprop=\"name\")\n",
    "    for i in range(len(BULIDER)):\n",
    "        buildername.append(BULIDER[i].text)\n",
    "    \n",
    "    for i in soup.find_all('div',class_='title-line'):\n",
    "        info=i.find('div',class_='rera-tag-new')\n",
    "        if info is None:\n",
    "            RERA.append('not approval by RERA')\n",
    "        else:\n",
    "            RERA.append('approval by RERA')\n",
    "    "
   ]
  },
  {
   "cell_type": "code",
   "execution_count": 3,
   "id": "b0963251",
   "metadata": {},
   "outputs": [
    {
     "name": "stdout",
     "output_type": "stream",
     "text": [
      "980\n",
      "980\n",
      "980\n",
      "980\n",
      "980\n",
      "980\n",
      "980\n",
      "980\n"
     ]
    }
   ],
   "source": [
    "print(len(rates))\n",
    "print(len(statu))\n",
    "print(len(Area))\n",
    "print(len(Ratepersqft))\n",
    "print(len(localities))\n",
    "\n",
    "print(len(propert))\n",
    "print(len(buildername))\n",
    "print(len(RERA))"
   ]
  },
  {
   "cell_type": "markdown",
   "id": "c86e9f2a",
   "metadata": {},
   "source": [
    "# creating dataframe "
   ]
  },
  {
   "cell_type": "code",
   "execution_count": 4,
   "id": "155021f0",
   "metadata": {},
   "outputs": [],
   "source": [
    "df=pd.DataFrame({'property_type':propert,'seller':buildername,'status':statu,'rate per sqft':Ratepersqft,'price':rates,'area':Area,'location':localities,\n",
    "                 'RERA':RERA})"
   ]
  },
  {
   "cell_type": "code",
   "execution_count": 5,
   "id": "034e0993",
   "metadata": {},
   "outputs": [
    {
     "data": {
      "text/html": [
       "<div>\n",
       "<style scoped>\n",
       "    .dataframe tbody tr th:only-of-type {\n",
       "        vertical-align: middle;\n",
       "    }\n",
       "\n",
       "    .dataframe tbody tr th {\n",
       "        vertical-align: top;\n",
       "    }\n",
       "\n",
       "    .dataframe thead th {\n",
       "        text-align: right;\n",
       "    }\n",
       "</style>\n",
       "<table border=\"1\" class=\"dataframe\">\n",
       "  <thead>\n",
       "    <tr style=\"text-align: right;\">\n",
       "      <th></th>\n",
       "      <th>property_type</th>\n",
       "      <th>seller</th>\n",
       "      <th>status</th>\n",
       "      <th>rate per sqft</th>\n",
       "      <th>price</th>\n",
       "      <th>area</th>\n",
       "      <th>location</th>\n",
       "      <th>RERA</th>\n",
       "    </tr>\n",
       "  </thead>\n",
       "  <tbody>\n",
       "    <tr>\n",
       "      <th>0</th>\n",
       "      <td>2 BHK Apartment in ELV ELV Cosmopolis</td>\n",
       "      <td>ELV Projects</td>\n",
       "      <td>Under Construction</td>\n",
       "      <td>3,800 / sq ft</td>\n",
       "      <td>53.01 L</td>\n",
       "      <td>1395</td>\n",
       "      <td>Adibatla</td>\n",
       "      <td>approval by RERA</td>\n",
       "    </tr>\n",
       "    <tr>\n",
       "      <th>1</th>\n",
       "      <td>4 BHK Villa in Vajra Nature City</td>\n",
       "      <td>Vajra Builders And Developers</td>\n",
       "      <td>Under Construction</td>\n",
       "      <td>7,000 / sq ft</td>\n",
       "      <td>1.61 Cr</td>\n",
       "      <td>2300</td>\n",
       "      <td>Bachupally</td>\n",
       "      <td>approval by RERA</td>\n",
       "    </tr>\n",
       "    <tr>\n",
       "      <th>2</th>\n",
       "      <td>3 BHK Apartment in GHR Titania</td>\n",
       "      <td>GHR Infra</td>\n",
       "      <td>Under Construction</td>\n",
       "      <td>6,749 / sq ft</td>\n",
       "      <td>1.19 Cr</td>\n",
       "      <td>1770</td>\n",
       "      <td>Kondapur</td>\n",
       "      <td>approval by RERA</td>\n",
       "    </tr>\n",
       "    <tr>\n",
       "      <th>3</th>\n",
       "      <td>3 BHK Apartment in Hallmark Treasor</td>\n",
       "      <td>Hallmark Builders</td>\n",
       "      <td>Under Construction</td>\n",
       "      <td>6,999 / sq ft</td>\n",
       "      <td>2.68 Cr</td>\n",
       "      <td>3830</td>\n",
       "      <td>Gandipet</td>\n",
       "      <td>approval by RERA</td>\n",
       "    </tr>\n",
       "    <tr>\n",
       "      <th>4</th>\n",
       "      <td>3 BHK Apartment in Sumadhura The Olympus</td>\n",
       "      <td>Sumadhura Infracon Pvt Ltd</td>\n",
       "      <td>Under Construction</td>\n",
       "      <td>7,499 / sq ft</td>\n",
       "      <td>1.25 Cr</td>\n",
       "      <td>1670</td>\n",
       "      <td>Nanakramguda</td>\n",
       "      <td>approval by RERA</td>\n",
       "    </tr>\n",
       "  </tbody>\n",
       "</table>\n",
       "</div>"
      ],
      "text/plain": [
       "                              property_type                         seller  \\\n",
       "0    2 BHK Apartment in ELV ELV Cosmopolis                    ELV Projects   \n",
       "1          4 BHK Villa in Vajra Nature City  Vajra Builders And Developers   \n",
       "2            3 BHK Apartment in GHR Titania                      GHR Infra   \n",
       "3       3 BHK Apartment in Hallmark Treasor              Hallmark Builders   \n",
       "4  3 BHK Apartment in Sumadhura The Olympus     Sumadhura Infracon Pvt Ltd   \n",
       "\n",
       "               status  rate per sqft     price   area      location  \\\n",
       "0  Under Construction  3,800 / sq ft   53.01 L  1395       Adibatla   \n",
       "1  Under Construction  7,000 / sq ft   1.61 Cr  2300     Bachupally   \n",
       "2  Under Construction  6,749 / sq ft   1.19 Cr  1770       Kondapur   \n",
       "3  Under Construction  6,999 / sq ft   2.68 Cr  3830       Gandipet   \n",
       "4  Under Construction  7,499 / sq ft   1.25 Cr  1670   Nanakramguda   \n",
       "\n",
       "               RERA  \n",
       "0  approval by RERA  \n",
       "1  approval by RERA  \n",
       "2  approval by RERA  \n",
       "3  approval by RERA  \n",
       "4  approval by RERA  "
      ]
     },
     "execution_count": 5,
     "metadata": {},
     "output_type": "execute_result"
    }
   ],
   "source": [
    "df.head()"
   ]
  },
  {
   "cell_type": "code",
   "execution_count": 6,
   "id": "e0db1963",
   "metadata": {},
   "outputs": [
    {
     "data": {
      "text/plain": [
       "(980, 8)"
      ]
     },
     "execution_count": 6,
     "metadata": {},
     "output_type": "execute_result"
    }
   ],
   "source": [
    "df.shape"
   ]
  },
  {
   "cell_type": "code",
   "execution_count": 7,
   "id": "519bb66d",
   "metadata": {},
   "outputs": [],
   "source": [
    "df.to_csv('realestates.csv')"
   ]
  },
  {
   "cell_type": "code",
   "execution_count": 5,
   "id": "82ba6a97",
   "metadata": {},
   "outputs": [],
   "source": [
    "df = pd.read_csv('realestates.csv')"
   ]
  },
  {
   "cell_type": "code",
   "execution_count": 6,
   "id": "38571b76",
   "metadata": {},
   "outputs": [
    {
     "data": {
      "text/html": [
       "<div>\n",
       "<style scoped>\n",
       "    .dataframe tbody tr th:only-of-type {\n",
       "        vertical-align: middle;\n",
       "    }\n",
       "\n",
       "    .dataframe tbody tr th {\n",
       "        vertical-align: top;\n",
       "    }\n",
       "\n",
       "    .dataframe thead th {\n",
       "        text-align: right;\n",
       "    }\n",
       "</style>\n",
       "<table border=\"1\" class=\"dataframe\">\n",
       "  <thead>\n",
       "    <tr style=\"text-align: right;\">\n",
       "      <th></th>\n",
       "      <th>Unnamed: 0</th>\n",
       "      <th>property_type</th>\n",
       "      <th>seller</th>\n",
       "      <th>status</th>\n",
       "      <th>rate per sqft</th>\n",
       "      <th>price</th>\n",
       "      <th>area</th>\n",
       "      <th>location</th>\n",
       "      <th>RERA</th>\n",
       "    </tr>\n",
       "  </thead>\n",
       "  <tbody>\n",
       "    <tr>\n",
       "      <th>0</th>\n",
       "      <td>0</td>\n",
       "      <td>2 BHK Apartment in ELV ELV Cosmopolis</td>\n",
       "      <td>ELV Projects</td>\n",
       "      <td>Under Construction</td>\n",
       "      <td>3,800 / sq ft</td>\n",
       "      <td>53.01 L</td>\n",
       "      <td>1395</td>\n",
       "      <td>Adibatla</td>\n",
       "      <td>approval by RERA</td>\n",
       "    </tr>\n",
       "    <tr>\n",
       "      <th>1</th>\n",
       "      <td>1</td>\n",
       "      <td>4 BHK Villa in Vajra Nature City</td>\n",
       "      <td>Vajra Builders And Developers</td>\n",
       "      <td>Under Construction</td>\n",
       "      <td>7,000 / sq ft</td>\n",
       "      <td>1.61 Cr</td>\n",
       "      <td>2300</td>\n",
       "      <td>Bachupally</td>\n",
       "      <td>approval by RERA</td>\n",
       "    </tr>\n",
       "    <tr>\n",
       "      <th>2</th>\n",
       "      <td>2</td>\n",
       "      <td>3 BHK Apartment in GHR Titania</td>\n",
       "      <td>GHR Infra</td>\n",
       "      <td>Under Construction</td>\n",
       "      <td>6,749 / sq ft</td>\n",
       "      <td>1.19 Cr</td>\n",
       "      <td>1770</td>\n",
       "      <td>Kondapur</td>\n",
       "      <td>approval by RERA</td>\n",
       "    </tr>\n",
       "    <tr>\n",
       "      <th>3</th>\n",
       "      <td>3</td>\n",
       "      <td>3 BHK Apartment in Hallmark Treasor</td>\n",
       "      <td>Hallmark Builders</td>\n",
       "      <td>Under Construction</td>\n",
       "      <td>6,999 / sq ft</td>\n",
       "      <td>2.68 Cr</td>\n",
       "      <td>3830</td>\n",
       "      <td>Gandipet</td>\n",
       "      <td>approval by RERA</td>\n",
       "    </tr>\n",
       "    <tr>\n",
       "      <th>4</th>\n",
       "      <td>4</td>\n",
       "      <td>3 BHK Apartment in Sumadhura The Olympus</td>\n",
       "      <td>Sumadhura Infracon Pvt Ltd</td>\n",
       "      <td>Under Construction</td>\n",
       "      <td>7,499 / sq ft</td>\n",
       "      <td>1.25 Cr</td>\n",
       "      <td>1670</td>\n",
       "      <td>Nanakramguda</td>\n",
       "      <td>approval by RERA</td>\n",
       "    </tr>\n",
       "    <tr>\n",
       "      <th>...</th>\n",
       "      <td>...</td>\n",
       "      <td>...</td>\n",
       "      <td>...</td>\n",
       "      <td>...</td>\n",
       "      <td>...</td>\n",
       "      <td>...</td>\n",
       "      <td>...</td>\n",
       "      <td>...</td>\n",
       "      <td>...</td>\n",
       "    </tr>\n",
       "    <tr>\n",
       "      <th>975</th>\n",
       "      <td>975</td>\n",
       "      <td>6 BHK Independent House</td>\n",
       "      <td>seller</td>\n",
       "      <td>Ready to move</td>\n",
       "      <td>5,142 / sq ft</td>\n",
       "      <td>1.8 Cr</td>\n",
       "      <td>3500</td>\n",
       "      <td>Kukatpally</td>\n",
       "      <td>not approval by RERA</td>\n",
       "    </tr>\n",
       "    <tr>\n",
       "      <th>976</th>\n",
       "      <td>976</td>\n",
       "      <td>2 BHK Apartment</td>\n",
       "      <td>seller</td>\n",
       "      <td>Ready to move</td>\n",
       "      <td>3,800 / sq ft</td>\n",
       "      <td>38 L</td>\n",
       "      <td>1000</td>\n",
       "      <td>Gandi Maisamma</td>\n",
       "      <td>not approval by RERA</td>\n",
       "    </tr>\n",
       "    <tr>\n",
       "      <th>977</th>\n",
       "      <td>977</td>\n",
       "      <td>2 BHK Apartment</td>\n",
       "      <td>seller</td>\n",
       "      <td>Ready to move</td>\n",
       "      <td>7,073 / sq ft</td>\n",
       "      <td>87 L</td>\n",
       "      <td>1230</td>\n",
       "      <td>Manikonda</td>\n",
       "      <td>not approval by RERA</td>\n",
       "    </tr>\n",
       "    <tr>\n",
       "      <th>978</th>\n",
       "      <td>978</td>\n",
       "      <td>3 BHK Villa</td>\n",
       "      <td>seller</td>\n",
       "      <td>Under Construction</td>\n",
       "      <td>3,653 / sq ft</td>\n",
       "      <td>95 L</td>\n",
       "      <td>2600</td>\n",
       "      <td>Mokila</td>\n",
       "      <td>not approval by RERA</td>\n",
       "    </tr>\n",
       "    <tr>\n",
       "      <th>979</th>\n",
       "      <td>979</td>\n",
       "      <td>4 BHK Villa</td>\n",
       "      <td>seller</td>\n",
       "      <td>Under Construction</td>\n",
       "      <td>6,172 / sq ft</td>\n",
       "      <td>1.5 Cr</td>\n",
       "      <td>2430</td>\n",
       "      <td>Indresham</td>\n",
       "      <td>not approval by RERA</td>\n",
       "    </tr>\n",
       "  </tbody>\n",
       "</table>\n",
       "<p>980 rows × 9 columns</p>\n",
       "</div>"
      ],
      "text/plain": [
       "     Unnamed: 0                             property_type  \\\n",
       "0             0    2 BHK Apartment in ELV ELV Cosmopolis    \n",
       "1             1          4 BHK Villa in Vajra Nature City   \n",
       "2             2            3 BHK Apartment in GHR Titania   \n",
       "3             3       3 BHK Apartment in Hallmark Treasor   \n",
       "4             4  3 BHK Apartment in Sumadhura The Olympus   \n",
       "..          ...                                       ...   \n",
       "975         975                   6 BHK Independent House   \n",
       "976         976                           2 BHK Apartment   \n",
       "977         977                           2 BHK Apartment   \n",
       "978         978                               3 BHK Villa   \n",
       "979         979                               4 BHK Villa   \n",
       "\n",
       "                            seller              status  rate per sqft  \\\n",
       "0                     ELV Projects  Under Construction  3,800 / sq ft   \n",
       "1    Vajra Builders And Developers  Under Construction  7,000 / sq ft   \n",
       "2                        GHR Infra  Under Construction  6,749 / sq ft   \n",
       "3                Hallmark Builders  Under Construction  6,999 / sq ft   \n",
       "4       Sumadhura Infracon Pvt Ltd  Under Construction  7,499 / sq ft   \n",
       "..                             ...                 ...            ...   \n",
       "975                         seller       Ready to move  5,142 / sq ft   \n",
       "976                         seller       Ready to move  3,800 / sq ft   \n",
       "977                         seller       Ready to move  7,073 / sq ft   \n",
       "978                         seller  Under Construction  3,653 / sq ft   \n",
       "979                         seller  Under Construction  6,172 / sq ft   \n",
       "\n",
       "        price  area        location                  RERA  \n",
       "0     53.01 L  1395        Adibatla      approval by RERA  \n",
       "1     1.61 Cr  2300      Bachupally      approval by RERA  \n",
       "2     1.19 Cr  1770        Kondapur      approval by RERA  \n",
       "3     2.68 Cr  3830        Gandipet      approval by RERA  \n",
       "4     1.25 Cr  1670    Nanakramguda      approval by RERA  \n",
       "..        ...   ...             ...                   ...  \n",
       "975    1.8 Cr  3500      Kukatpally  not approval by RERA  \n",
       "976      38 L  1000  Gandi Maisamma  not approval by RERA  \n",
       "977      87 L  1230       Manikonda  not approval by RERA  \n",
       "978      95 L  2600          Mokila  not approval by RERA  \n",
       "979    1.5 Cr  2430       Indresham  not approval by RERA  \n",
       "\n",
       "[980 rows x 9 columns]"
      ]
     },
     "execution_count": 6,
     "metadata": {},
     "output_type": "execute_result"
    }
   ],
   "source": [
    "df"
   ]
  },
  {
   "cell_type": "markdown",
   "id": "84b83106",
   "metadata": {},
   "source": [
    "# Identifying missing values in columns"
   ]
  },
  {
   "cell_type": "code",
   "execution_count": 13,
   "id": "9b895ad4",
   "metadata": {},
   "outputs": [
    {
     "data": {
      "text/plain": [
       "Unnamed: 0       0\n",
       "property_type    0\n",
       "seller           0\n",
       "status           0\n",
       "rate per sqft    0\n",
       "price            0\n",
       "area             0\n",
       "location         0\n",
       "RERA             0\n",
       "dtype: int64"
      ]
     },
     "execution_count": 13,
     "metadata": {},
     "output_type": "execute_result"
    }
   ],
   "source": [
    "df.isnull().sum(axis=0)"
   ]
  },
  {
   "cell_type": "markdown",
   "id": "719ee8cd",
   "metadata": {},
   "source": [
    "# Identifying missing values in columns"
   ]
  },
  {
   "cell_type": "code",
   "execution_count": 14,
   "id": "222833cf",
   "metadata": {},
   "outputs": [
    {
     "data": {
      "text/plain": [
       "0      0\n",
       "1      0\n",
       "2      0\n",
       "3      0\n",
       "4      0\n",
       "      ..\n",
       "975    0\n",
       "976    0\n",
       "977    0\n",
       "978    0\n",
       "979    0\n",
       "Length: 980, dtype: int64"
      ]
     },
     "execution_count": 14,
     "metadata": {},
     "output_type": "execute_result"
    }
   ],
   "source": [
    "df.isnull().sum(axis=1)"
   ]
  },
  {
   "cell_type": "code",
   "execution_count": 15,
   "id": "ece4e81c",
   "metadata": {},
   "outputs": [
    {
     "data": {
      "text/plain": [
       "2 BHK Apartment                                                  121\n",
       "3 BHK Apartment                                                   57\n",
       "3 BHK Apartment in Engineers Sri Tirumala Millennium Phase II     50\n",
       "3 BHK Independent House                                           27\n",
       "4 BHK Independent House                                           22\n",
       "                                                                ... \n",
       "2 BHK Apartment in Om Omkar Heights                                1\n",
       "3 BHK Apartment in Kalpataru Avante                                1\n",
       "3 BHK Apartment in Hallmark Tranquil                               1\n",
       "2 BHK Apartment in Namishree Tulip Residency                       1\n",
       "2 BHK Apartment in Saraswathi Nilayam Beeramguda                   1\n",
       "Name: property_type, Length: 240, dtype: int64"
      ]
     },
     "execution_count": 15,
     "metadata": {},
     "output_type": "execute_result"
    }
   ],
   "source": [
    "df.property_type.value_counts()"
   ]
  },
  {
   "cell_type": "markdown",
   "id": "1604469b",
   "metadata": {},
   "source": [
    "# extracting Bhk"
   ]
  },
  {
   "cell_type": "code",
   "execution_count": 16,
   "id": "ff76e1c2",
   "metadata": {},
   "outputs": [],
   "source": [
    "df['BHK']=df.property_type.apply(lambda x: x.split(' ')[0])"
   ]
  },
  {
   "cell_type": "code",
   "execution_count": 17,
   "id": "5f23b422",
   "metadata": {},
   "outputs": [
    {
     "data": {
      "text/plain": [
       "3     486\n",
       "2     312\n",
       "4     105\n",
       "5      31\n",
       "1      22\n",
       "6      12\n",
       "10      6\n",
       "7       3\n",
       "8       3\n",
       "Name: BHK, dtype: int64"
      ]
     },
     "execution_count": 17,
     "metadata": {},
     "output_type": "execute_result"
    }
   ],
   "source": [
    "df.BHK.value_counts()"
   ]
  },
  {
   "cell_type": "code",
   "execution_count": 18,
   "id": "7b8f2869",
   "metadata": {},
   "outputs": [
    {
     "data": {
      "text/plain": [
       "0"
      ]
     },
     "execution_count": 18,
     "metadata": {},
     "output_type": "execute_result"
    }
   ],
   "source": [
    "df.BHK.isnull().sum()"
   ]
  },
  {
   "cell_type": "markdown",
   "id": "1df2f5f8",
   "metadata": {},
   "source": [
    "# extracting Bhk projectname"
   ]
  },
  {
   "cell_type": "code",
   "execution_count": 19,
   "id": "08dc525e",
   "metadata": {},
   "outputs": [],
   "source": [
    "df['projectname']=df.property_type.apply(lambda x: ' '.join(x.split(' ')[4:]))"
   ]
  },
  {
   "cell_type": "code",
   "execution_count": 20,
   "id": "96ff5c07",
   "metadata": {},
   "outputs": [
    {
     "data": {
      "text/plain": [
       "                                              318\n",
       "Engineers Sri Tirumala Millennium Phase II     64\n",
       "Shri Sunyuga Luxurious Apartments              24\n",
       "Riddhi Pramukh Elegance                        22\n",
       "MRKR Meda Prestige                             22\n",
       "                                             ... \n",
       "Vertex Sadguru Krupa                            1\n",
       "Srinidhi Residency Kukatpally                   1\n",
       "Shweta Aryan                                    1\n",
       " Vedavyasa Nilayam                              1\n",
       "Aditya Hill Crest                               1\n",
       "Name: projectname, Length: 174, dtype: int64"
      ]
     },
     "execution_count": 20,
     "metadata": {},
     "output_type": "execute_result"
    }
   ],
   "source": [
    "df.projectname.value_counts()"
   ]
  },
  {
   "cell_type": "code",
   "execution_count": 21,
   "id": "3c7e16e3",
   "metadata": {},
   "outputs": [
    {
     "data": {
      "text/plain": [
       "1800    23\n",
       "1200    23\n",
       "1100    17\n",
       "1650    15\n",
       "1500    13\n",
       "        ..\n",
       "2468     1\n",
       "1438     1\n",
       "1437     1\n",
       "1430     1\n",
       "2047     1\n",
       "Name: area, Length: 489, dtype: int64"
      ]
     },
     "execution_count": 21,
     "metadata": {},
     "output_type": "execute_result"
    }
   ],
   "source": [
    "df.area.value_counts()"
   ]
  },
  {
   "cell_type": "code",
   "execution_count": 22,
   "id": "bddc665f",
   "metadata": {},
   "outputs": [],
   "source": [
    "df.projectname.replace(to_replace=\"\",value=\"not mentioned\",inplace=True)"
   ]
  },
  {
   "cell_type": "code",
   "execution_count": 23,
   "id": "ca74e485",
   "metadata": {},
   "outputs": [
    {
     "data": {
      "text/plain": [
       "not mentioned                                 318\n",
       "Engineers Sri Tirumala Millennium Phase II     64\n",
       "Shri Sunyuga Luxurious Apartments              24\n",
       "Riddhi Pramukh Elegance                        22\n",
       "MRKR Meda Prestige                             22\n",
       "                                             ... \n",
       "in Jupally GK S Alam Villas                     1\n",
       "Navya Prestiage                                 1\n",
       "in Provident Kenworth                           1\n",
       "Live In Nirvana                                 1\n",
       "Trident Grande                                  1\n",
       "Name: projectname, Length: 174, dtype: int64"
      ]
     },
     "execution_count": 23,
     "metadata": {},
     "output_type": "execute_result"
    }
   ],
   "source": [
    "df.projectname.value_counts()"
   ]
  },
  {
   "cell_type": "code",
   "execution_count": 24,
   "id": "9b729d39",
   "metadata": {},
   "outputs": [
    {
     "data": {
      "text/html": [
       "<div>\n",
       "<style scoped>\n",
       "    .dataframe tbody tr th:only-of-type {\n",
       "        vertical-align: middle;\n",
       "    }\n",
       "\n",
       "    .dataframe tbody tr th {\n",
       "        vertical-align: top;\n",
       "    }\n",
       "\n",
       "    .dataframe thead th {\n",
       "        text-align: right;\n",
       "    }\n",
       "</style>\n",
       "<table border=\"1\" class=\"dataframe\">\n",
       "  <thead>\n",
       "    <tr style=\"text-align: right;\">\n",
       "      <th></th>\n",
       "      <th>Unnamed: 0</th>\n",
       "      <th>property_type</th>\n",
       "      <th>seller</th>\n",
       "      <th>status</th>\n",
       "      <th>rate per sqft</th>\n",
       "      <th>price</th>\n",
       "      <th>area</th>\n",
       "      <th>location</th>\n",
       "      <th>RERA</th>\n",
       "      <th>BHK</th>\n",
       "      <th>projectname</th>\n",
       "    </tr>\n",
       "  </thead>\n",
       "  <tbody>\n",
       "    <tr>\n",
       "      <th>89</th>\n",
       "      <td>89</td>\n",
       "      <td>3 BHK Apartment</td>\n",
       "      <td>seller</td>\n",
       "      <td>Ready to move</td>\n",
       "      <td>4,676 / sq ft</td>\n",
       "      <td>1.12 Cr</td>\n",
       "      <td>2395</td>\n",
       "      <td>Attapur</td>\n",
       "      <td>not approval by RERA</td>\n",
       "      <td>3</td>\n",
       "      <td>not mentioned</td>\n",
       "    </tr>\n",
       "    <tr>\n",
       "      <th>90</th>\n",
       "      <td>90</td>\n",
       "      <td>10 BHK Independent House</td>\n",
       "      <td>seller</td>\n",
       "      <td>Ready to move</td>\n",
       "      <td>4,561 / sq ft</td>\n",
       "      <td>2.6 Cr</td>\n",
       "      <td>5700</td>\n",
       "      <td>Meerpet</td>\n",
       "      <td>not approval by RERA</td>\n",
       "      <td>10</td>\n",
       "      <td>not mentioned</td>\n",
       "    </tr>\n",
       "    <tr>\n",
       "      <th>93</th>\n",
       "      <td>93</td>\n",
       "      <td>2 BHK Apartment</td>\n",
       "      <td>seller</td>\n",
       "      <td>Ready to move</td>\n",
       "      <td>7,211 / sq ft</td>\n",
       "      <td>75 L</td>\n",
       "      <td>1040</td>\n",
       "      <td>Nallakunta</td>\n",
       "      <td>not approval by RERA</td>\n",
       "      <td>2</td>\n",
       "      <td>not mentioned</td>\n",
       "    </tr>\n",
       "    <tr>\n",
       "      <th>94</th>\n",
       "      <td>94</td>\n",
       "      <td>3 BHK Independent House</td>\n",
       "      <td>seller</td>\n",
       "      <td>Ready to move</td>\n",
       "      <td>30,769 / sq ft</td>\n",
       "      <td>4 Cr</td>\n",
       "      <td>1300</td>\n",
       "      <td>Serilingampally</td>\n",
       "      <td>not approval by RERA</td>\n",
       "      <td>3</td>\n",
       "      <td>not mentioned</td>\n",
       "    </tr>\n",
       "    <tr>\n",
       "      <th>95</th>\n",
       "      <td>95</td>\n",
       "      <td>2 BHK Villa</td>\n",
       "      <td>seller</td>\n",
       "      <td>Under Construction</td>\n",
       "      <td>10,705 / sq ft</td>\n",
       "      <td>1.67 Cr</td>\n",
       "      <td>1560</td>\n",
       "      <td>Kapra</td>\n",
       "      <td>not approval by RERA</td>\n",
       "      <td>2</td>\n",
       "      <td>not mentioned</td>\n",
       "    </tr>\n",
       "    <tr>\n",
       "      <th>...</th>\n",
       "      <td>...</td>\n",
       "      <td>...</td>\n",
       "      <td>...</td>\n",
       "      <td>...</td>\n",
       "      <td>...</td>\n",
       "      <td>...</td>\n",
       "      <td>...</td>\n",
       "      <td>...</td>\n",
       "      <td>...</td>\n",
       "      <td>...</td>\n",
       "      <td>...</td>\n",
       "    </tr>\n",
       "    <tr>\n",
       "      <th>975</th>\n",
       "      <td>975</td>\n",
       "      <td>6 BHK Independent House</td>\n",
       "      <td>seller</td>\n",
       "      <td>Ready to move</td>\n",
       "      <td>5,142 / sq ft</td>\n",
       "      <td>1.8 Cr</td>\n",
       "      <td>3500</td>\n",
       "      <td>Kukatpally</td>\n",
       "      <td>not approval by RERA</td>\n",
       "      <td>6</td>\n",
       "      <td>not mentioned</td>\n",
       "    </tr>\n",
       "    <tr>\n",
       "      <th>976</th>\n",
       "      <td>976</td>\n",
       "      <td>2 BHK Apartment</td>\n",
       "      <td>seller</td>\n",
       "      <td>Ready to move</td>\n",
       "      <td>3,800 / sq ft</td>\n",
       "      <td>38 L</td>\n",
       "      <td>1000</td>\n",
       "      <td>Gandi Maisamma</td>\n",
       "      <td>not approval by RERA</td>\n",
       "      <td>2</td>\n",
       "      <td>not mentioned</td>\n",
       "    </tr>\n",
       "    <tr>\n",
       "      <th>977</th>\n",
       "      <td>977</td>\n",
       "      <td>2 BHK Apartment</td>\n",
       "      <td>seller</td>\n",
       "      <td>Ready to move</td>\n",
       "      <td>7,073 / sq ft</td>\n",
       "      <td>87 L</td>\n",
       "      <td>1230</td>\n",
       "      <td>Manikonda</td>\n",
       "      <td>not approval by RERA</td>\n",
       "      <td>2</td>\n",
       "      <td>not mentioned</td>\n",
       "    </tr>\n",
       "    <tr>\n",
       "      <th>978</th>\n",
       "      <td>978</td>\n",
       "      <td>3 BHK Villa</td>\n",
       "      <td>seller</td>\n",
       "      <td>Under Construction</td>\n",
       "      <td>3,653 / sq ft</td>\n",
       "      <td>95 L</td>\n",
       "      <td>2600</td>\n",
       "      <td>Mokila</td>\n",
       "      <td>not approval by RERA</td>\n",
       "      <td>3</td>\n",
       "      <td>not mentioned</td>\n",
       "    </tr>\n",
       "    <tr>\n",
       "      <th>979</th>\n",
       "      <td>979</td>\n",
       "      <td>4 BHK Villa</td>\n",
       "      <td>seller</td>\n",
       "      <td>Under Construction</td>\n",
       "      <td>6,172 / sq ft</td>\n",
       "      <td>1.5 Cr</td>\n",
       "      <td>2430</td>\n",
       "      <td>Indresham</td>\n",
       "      <td>not approval by RERA</td>\n",
       "      <td>4</td>\n",
       "      <td>not mentioned</td>\n",
       "    </tr>\n",
       "  </tbody>\n",
       "</table>\n",
       "<p>318 rows × 11 columns</p>\n",
       "</div>"
      ],
      "text/plain": [
       "     Unnamed: 0             property_type  seller              status  \\\n",
       "89           89           3 BHK Apartment  seller       Ready to move   \n",
       "90           90  10 BHK Independent House  seller       Ready to move   \n",
       "93           93           2 BHK Apartment  seller       Ready to move   \n",
       "94           94   3 BHK Independent House  seller       Ready to move   \n",
       "95           95               2 BHK Villa  seller  Under Construction   \n",
       "..          ...                       ...     ...                 ...   \n",
       "975         975   6 BHK Independent House  seller       Ready to move   \n",
       "976         976           2 BHK Apartment  seller       Ready to move   \n",
       "977         977           2 BHK Apartment  seller       Ready to move   \n",
       "978         978               3 BHK Villa  seller  Under Construction   \n",
       "979         979               4 BHK Villa  seller  Under Construction   \n",
       "\n",
       "      rate per sqft     price  area         location                  RERA  \\\n",
       "89    4,676 / sq ft   1.12 Cr  2395          Attapur  not approval by RERA   \n",
       "90    4,561 / sq ft    2.6 Cr  5700          Meerpet  not approval by RERA   \n",
       "93    7,211 / sq ft      75 L  1040       Nallakunta  not approval by RERA   \n",
       "94   30,769 / sq ft      4 Cr  1300  Serilingampally  not approval by RERA   \n",
       "95   10,705 / sq ft   1.67 Cr  1560            Kapra  not approval by RERA   \n",
       "..              ...       ...   ...              ...                   ...   \n",
       "975   5,142 / sq ft    1.8 Cr  3500       Kukatpally  not approval by RERA   \n",
       "976   3,800 / sq ft      38 L  1000   Gandi Maisamma  not approval by RERA   \n",
       "977   7,073 / sq ft      87 L  1230        Manikonda  not approval by RERA   \n",
       "978   3,653 / sq ft      95 L  2600           Mokila  not approval by RERA   \n",
       "979   6,172 / sq ft    1.5 Cr  2430        Indresham  not approval by RERA   \n",
       "\n",
       "    BHK    projectname  \n",
       "89    3  not mentioned  \n",
       "90   10  not mentioned  \n",
       "93    2  not mentioned  \n",
       "94    3  not mentioned  \n",
       "95    2  not mentioned  \n",
       "..   ..            ...  \n",
       "975   6  not mentioned  \n",
       "976   2  not mentioned  \n",
       "977   2  not mentioned  \n",
       "978   3  not mentioned  \n",
       "979   4  not mentioned  \n",
       "\n",
       "[318 rows x 11 columns]"
      ]
     },
     "execution_count": 24,
     "metadata": {},
     "output_type": "execute_result"
    }
   ],
   "source": [
    "df[(df['projectname']=='not mentioned') & (df['seller']=='seller')]"
   ]
  },
  {
   "cell_type": "markdown",
   "id": "e41b6fc0",
   "metadata": {},
   "source": [
    "# extracting property_type"
   ]
  },
  {
   "cell_type": "code",
   "execution_count": 25,
   "id": "1b9dd20d",
   "metadata": {},
   "outputs": [],
   "source": [
    "df['property_type']=df.property_type.apply(lambda x: x.split(' ')[2])"
   ]
  },
  {
   "cell_type": "code",
   "execution_count": 26,
   "id": "86b26255",
   "metadata": {},
   "outputs": [
    {
     "data": {
      "text/plain": [
       "Apartment      764\n",
       "Independent    114\n",
       "Villa          100\n",
       "Studio           2\n",
       "Name: property_type, dtype: int64"
      ]
     },
     "execution_count": 26,
     "metadata": {},
     "output_type": "execute_result"
    }
   ],
   "source": [
    "df.property_type.value_counts()"
   ]
  },
  {
   "cell_type": "markdown",
   "id": "92280d53",
   "metadata": {},
   "source": [
    "# rate per sqft"
   ]
  },
  {
   "cell_type": "code",
   "execution_count": 27,
   "id": "3119154b",
   "metadata": {},
   "outputs": [],
   "source": [
    "df['rate per sqft']=df['rate per sqft'].apply(lambda x : x.split(' ')[0])"
   ]
  },
  {
   "cell_type": "code",
   "execution_count": 28,
   "id": "b7c22192",
   "metadata": {},
   "outputs": [],
   "source": [
    "df['rate per sqft']=df['rate per sqft'].apply(lambda x:\"\".join(x.split(',')))"
   ]
  },
  {
   "cell_type": "code",
   "execution_count": 29,
   "id": "5914b649",
   "metadata": {},
   "outputs": [
    {
     "data": {
      "text/plain": [
       "4999    74\n",
       "5800    43\n",
       "6000    32\n",
       "6200    26\n",
       "5399    23\n",
       "        ..\n",
       "3900     1\n",
       "5777     1\n",
       "6436     1\n",
       "6571     1\n",
       "2475     1\n",
       "Name: rate per sqft, Length: 396, dtype: int64"
      ]
     },
     "execution_count": 29,
     "metadata": {},
     "output_type": "execute_result"
    }
   ],
   "source": [
    "df['rate per sqft'].value_counts()"
   ]
  },
  {
   "cell_type": "code",
   "execution_count": 30,
   "id": "12c86c32",
   "metadata": {},
   "outputs": [
    {
     "name": "stdout",
     "output_type": "stream",
     "text": [
      "<class 'pandas.core.frame.DataFrame'>\n",
      "RangeIndex: 980 entries, 0 to 979\n",
      "Data columns (total 11 columns):\n",
      " #   Column         Non-Null Count  Dtype \n",
      "---  ------         --------------  ----- \n",
      " 0   Unnamed: 0     980 non-null    int64 \n",
      " 1   property_type  980 non-null    object\n",
      " 2   seller         980 non-null    object\n",
      " 3   status         980 non-null    object\n",
      " 4   rate per sqft  980 non-null    object\n",
      " 5   price          980 non-null    object\n",
      " 6   area           980 non-null    int64 \n",
      " 7   location       980 non-null    object\n",
      " 8   RERA           980 non-null    object\n",
      " 9   BHK            980 non-null    object\n",
      " 10  projectname    980 non-null    object\n",
      "dtypes: int64(2), object(9)\n",
      "memory usage: 84.3+ KB\n"
     ]
    }
   ],
   "source": [
    "df.info()"
   ]
  },
  {
   "cell_type": "code",
   "execution_count": 31,
   "id": "00c7da8a",
   "metadata": {},
   "outputs": [],
   "source": [
    "df['rate per sqft']=df['rate per sqft'].astype(float)\n",
    "df.BHK=df.BHK.astype(int)\n"
   ]
  },
  {
   "cell_type": "markdown",
   "id": "cd8c1981",
   "metadata": {},
   "source": [
    "# price in lakhs"
   ]
  },
  {
   "cell_type": "code",
   "execution_count": 32,
   "id": "a99f2eb7",
   "metadata": {},
   "outputs": [
    {
     "data": {
      "text/plain": [
       " 1.5 Cr     18\n",
       " 1.08 Cr    15\n",
       " 1 Cr       13\n",
       " 55 L       12\n",
       " 70 L       10\n",
       "            ..\n",
       " 79.26 L     1\n",
       " 86.88 L     1\n",
       " 96.1 L      1\n",
       " 53.9 L      1\n",
       " 55.97 L     1\n",
       "Name: price, Length: 475, dtype: int64"
      ]
     },
     "execution_count": 32,
     "metadata": {},
     "output_type": "execute_result"
    }
   ],
   "source": [
    "df.price.value_counts()"
   ]
  },
  {
   "cell_type": "markdown",
   "id": "29ab403e",
   "metadata": {},
   "source": [
    "# converting crores to lakhs"
   ]
  },
  {
   "cell_type": "code",
   "execution_count": 33,
   "id": "6335d965",
   "metadata": {},
   "outputs": [],
   "source": [
    "rate=[]\n",
    "for i in df['price']:\n",
    "    if i.split()[-1]=='Cr':\n",
    "        rate.append(round(float(i.split()[0])*100,2))\n",
    "    else:\n",
    "        rate.append(float(i.split()[0]))"
   ]
  },
  {
   "cell_type": "code",
   "execution_count": 34,
   "id": "3ff8a728",
   "metadata": {},
   "outputs": [
    {
     "data": {
      "text/plain": [
       "[53.01,\n",
       " 161.0,\n",
       " 119.0,\n",
       " 268.0,\n",
       " 125.0,\n",
       " 84.74,\n",
       " 26.99,\n",
       " 56.98,\n",
       " 95.23,\n",
       " 249.0,\n",
       " 66.79,\n",
       " 38.21,\n",
       " 83.92,\n",
       " 87.4,\n",
       " 196.0,\n",
       " 92.67,\n",
       " 162.0,\n",
       " 147.0,\n",
       " 78.23,\n",
       " 263.0,\n",
       " 105.0,\n",
       " 725.0,\n",
       " 513.0,\n",
       " 345.0,\n",
       " 642.0,\n",
       " 42.0,\n",
       " 74.7,\n",
       " 229.0,\n",
       " 75.13,\n",
       " 96.0,\n",
       " 243.0,\n",
       " 48.83,\n",
       " 161.0,\n",
       " 150.0,\n",
       " 118.0,\n",
       " 224.0,\n",
       " 121.0,\n",
       " 64.49,\n",
       " 52.58,\n",
       " 92.1,\n",
       " 44.86,\n",
       " 64.36,\n",
       " 126.0,\n",
       " 111.0,\n",
       " 231.0,\n",
       " 82.22,\n",
       " 98.83,\n",
       " 147.0,\n",
       " 62.92,\n",
       " 483.0,\n",
       " 151.0,\n",
       " 665.0,\n",
       " 452.0,\n",
       " 312.0,\n",
       " 522.0,\n",
       " 43.0,\n",
       " 99.24,\n",
       " 254.0,\n",
       " 55.33,\n",
       " 140.0,\n",
       " 149.0,\n",
       " 49.99,\n",
       " 64.47,\n",
       " 150.0,\n",
       " 355.0,\n",
       " 150.0,\n",
       " 99.91,\n",
       " 40.19,\n",
       " 74.58,\n",
       " 58.97,\n",
       " 70.73,\n",
       " 122.0,\n",
       " 63.71,\n",
       " 183.0,\n",
       " 82.5,\n",
       " 83.52,\n",
       " 147.0,\n",
       " 62.59,\n",
       " 353.0,\n",
       " 140.0,\n",
       " 621.0,\n",
       " 334.0,\n",
       " 640.0,\n",
       " 102.0,\n",
       " 254.0,\n",
       " 75.58,\n",
       " 245.0,\n",
       " 137.0,\n",
       " 26.1,\n",
       " 112.0,\n",
       " 260.0,\n",
       " 65.0,\n",
       " 71.35,\n",
       " 75.0,\n",
       " 400.0,\n",
       " 167.0,\n",
       " 40.0,\n",
       " 100.0,\n",
       " 100.0,\n",
       " 98.0,\n",
       " 64.03,\n",
       " 61.75,\n",
       " 85.0,\n",
       " 50.54,\n",
       " 86.65,\n",
       " 129.0,\n",
       " 165.0,\n",
       " 119.0,\n",
       " 247.0,\n",
       " 215.0,\n",
       " 173.0,\n",
       " 151.0,\n",
       " 170.0,\n",
       " 123.0,\n",
       " 108.0,\n",
       " 99.58,\n",
       " 107.0,\n",
       " 135.0,\n",
       " 411.0,\n",
       " 410.0,\n",
       " 494.0,\n",
       " 324.0,\n",
       " 120.0,\n",
       " 342.0,\n",
       " 141.0,\n",
       " 254.0,\n",
       " 115.0,\n",
       " 414.0,\n",
       " 142.0,\n",
       " 138.0,\n",
       " 318.0,\n",
       " 352.0,\n",
       " 384.0,\n",
       " 230.0,\n",
       " 108.0,\n",
       " 373.0,\n",
       " 70.18,\n",
       " 53.55,\n",
       " 70.35,\n",
       " 80.95,\n",
       " 107.0,\n",
       " 81.77,\n",
       " 104.0,\n",
       " 42.49,\n",
       " 26.49,\n",
       " 87.11,\n",
       " 89.16,\n",
       " 70.96,\n",
       " 66.87,\n",
       " 104.0,\n",
       " 103.0,\n",
       " 55.27,\n",
       " 63.68,\n",
       " 69.37,\n",
       " 39.12,\n",
       " 61.86,\n",
       " 60.72,\n",
       " 62.09,\n",
       " 99.93,\n",
       " 94.71,\n",
       " 108.0,\n",
       " 99.93,\n",
       " 94.71,\n",
       " 100.0,\n",
       " 95.04,\n",
       " 94.98,\n",
       " 84.15,\n",
       " 95.0,\n",
       " 113.0,\n",
       " 86.25,\n",
       " 71.3,\n",
       " 83.72,\n",
       " 65.32,\n",
       " 101.0,\n",
       " 64.4,\n",
       " 75.21,\n",
       " 183.0,\n",
       " 336.0,\n",
       " 104.0,\n",
       " 107.0,\n",
       " 103.0,\n",
       " 146.0,\n",
       " 117.0,\n",
       " 105.0,\n",
       " 113.0,\n",
       " 105.0,\n",
       " 101.0,\n",
       " 109.0,\n",
       " 106.0,\n",
       " 104.0,\n",
       " 77.83,\n",
       " 108.0,\n",
       " 112.0,\n",
       " 93.72,\n",
       " 157.0,\n",
       " 103.0,\n",
       " 143.0,\n",
       " 147.0,\n",
       " 140.0,\n",
       " 140.0,\n",
       " 122.0,\n",
       " 122.0,\n",
       " 161.0,\n",
       " 161.0,\n",
       " 120.0,\n",
       " 120.0,\n",
       " 127.0,\n",
       " 127.0,\n",
       " 123.0,\n",
       " 124.0,\n",
       " 99.34,\n",
       " 81.52,\n",
       " 106.0,\n",
       " 103.0,\n",
       " 110.0,\n",
       " 157.0,\n",
       " 106.0,\n",
       " 109.0,\n",
       " 59.38,\n",
       " 98.8,\n",
       " 66.4,\n",
       " 86.65,\n",
       " 112.0,\n",
       " 134.0,\n",
       " 295.0,\n",
       " 64.51,\n",
       " 295.0,\n",
       " 294.0,\n",
       " 163.0,\n",
       " 294.0,\n",
       " 276.0,\n",
       " 276.0,\n",
       " 103.0,\n",
       " 139.0,\n",
       " 301.0,\n",
       " 301.0,\n",
       " 170.0,\n",
       " 235.0,\n",
       " 235.0,\n",
       " 118.0,\n",
       " 273.0,\n",
       " 273.0,\n",
       " 61.27,\n",
       " 100.0,\n",
       " 111.0,\n",
       " 103.0,\n",
       " 78.73,\n",
       " 118.0,\n",
       " 114.0,\n",
       " 129.0,\n",
       " 128.0,\n",
       " 106.0,\n",
       " 108.0,\n",
       " 146.0,\n",
       " 81.25,\n",
       " 86.11,\n",
       " 116.0,\n",
       " 125.0,\n",
       " 129.0,\n",
       " 26.1,\n",
       " 43.73,\n",
       " 26.1,\n",
       " 25.15,\n",
       " 43.73,\n",
       " 25.8,\n",
       " 25.15,\n",
       " 25.8,\n",
       " 40.6,\n",
       " 33.75,\n",
       " 40.6,\n",
       " 33.75,\n",
       " 24.4,\n",
       " 24.4,\n",
       " 60.19,\n",
       " 55.29,\n",
       " 45.79,\n",
       " 52.6,\n",
       " 44.49,\n",
       " 53.9,\n",
       " 62.54,\n",
       " 54.57,\n",
       " 52.79,\n",
       " 418.0,\n",
       " 207.0,\n",
       " 145.0,\n",
       " 127.0,\n",
       " 207.0,\n",
       " 108.0,\n",
       " 127.0,\n",
       " 108.0,\n",
       " 93.65,\n",
       " 198.0,\n",
       " 93.65,\n",
       " 102.0,\n",
       " 297.0,\n",
       " 199.0,\n",
       " 140.0,\n",
       " 297.0,\n",
       " 297.0,\n",
       " 140.0,\n",
       " 145.0,\n",
       " 98.0,\n",
       " 77.41,\n",
       " 172.0,\n",
       " 131.0,\n",
       " 119.0,\n",
       " 87.13,\n",
       " 159.0,\n",
       " 124.0,\n",
       " 80.0,\n",
       " 140.0,\n",
       " 62.0,\n",
       " 70.0,\n",
       " 32.0,\n",
       " 230.0,\n",
       " 96.73,\n",
       " 111.0,\n",
       " 83.63,\n",
       " 92.13,\n",
       " 63.03,\n",
       " 82.53,\n",
       " 106.0,\n",
       " 69.38,\n",
       " 76.33,\n",
       " 96.38,\n",
       " 200.0,\n",
       " 750.0,\n",
       " 54.0,\n",
       " 47.0,\n",
       " 108.0,\n",
       " 88.0,\n",
       " 48.0,\n",
       " 260.0,\n",
       " 452.0,\n",
       " 518.0,\n",
       " 629.0,\n",
       " 101.0,\n",
       " 81.09,\n",
       " 77.62,\n",
       " 108.0,\n",
       " 113.0,\n",
       " 80.47,\n",
       " 101.0,\n",
       " 99.88,\n",
       " 96.1,\n",
       " 79.42,\n",
       " 110.0,\n",
       " 78.18,\n",
       " 106.0,\n",
       " 107.0,\n",
       " 125.0,\n",
       " 45.98,\n",
       " 115.0,\n",
       " 100.0,\n",
       " 170.0,\n",
       " 142.0,\n",
       " 62.0,\n",
       " 60.0,\n",
       " 78.0,\n",
       " 45.0,\n",
       " 49.0,\n",
       " 60.0,\n",
       " 78.0,\n",
       " 45.0,\n",
       " 25.0,\n",
       " 78.0,\n",
       " 71.4,\n",
       " 62.83,\n",
       " 87.24,\n",
       " 85.34,\n",
       " 66.64,\n",
       " 76.44,\n",
       " 47.73,\n",
       " 53.72,\n",
       " 90.0,\n",
       " 76.0,\n",
       " 135.0,\n",
       " 36.0,\n",
       " 68.5,\n",
       " 435.0,\n",
       " 435.0,\n",
       " 75.0,\n",
       " 115.0,\n",
       " 65.0,\n",
       " 62.0,\n",
       " 49.0,\n",
       " 42.0,\n",
       " 58.0,\n",
       " 230.0,\n",
       " 37.0,\n",
       " 91.0,\n",
       " 135.0,\n",
       " 265.0,\n",
       " 53.26,\n",
       " 87.0,\n",
       " 61.77,\n",
       " 54.0,\n",
       " 71.92,\n",
       " 71.93,\n",
       " 78.39,\n",
       " 64.0,\n",
       " 60.2,\n",
       " 60.2,\n",
       " 42.35,\n",
       " 42.87,\n",
       " 43.22,\n",
       " 44.0,\n",
       " 53.0,\n",
       " 42.35,\n",
       " 48.0,\n",
       " 60.2,\n",
       " 115.0,\n",
       " 265.0,\n",
       " 59.0,\n",
       " 124.0,\n",
       " 40.0,\n",
       " 91.9,\n",
       " 24.0,\n",
       " 25.0,\n",
       " 60.0,\n",
       " 26.0,\n",
       " 110.0,\n",
       " 78.66,\n",
       " 94.5,\n",
       " 86.88,\n",
       " 114.0,\n",
       " 106.0,\n",
       " 75.06,\n",
       " 95.04,\n",
       " 93.3,\n",
       " 89.58,\n",
       " 109.0,\n",
       " 101.0,\n",
       " 73.98,\n",
       " 80.64,\n",
       " 111.0,\n",
       " 96.18,\n",
       " 76.38,\n",
       " 100.0,\n",
       " 72.84,\n",
       " 111.0,\n",
       " 79.26,\n",
       " 107.0,\n",
       " 523.0,\n",
       " 803.0,\n",
       " 939.0,\n",
       " 799.0,\n",
       " 966.0,\n",
       " 70.0,\n",
       " 85.99,\n",
       " 59.0,\n",
       " 60.0,\n",
       " 48.0,\n",
       " 78.0,\n",
       " 70.0,\n",
       " 42.33,\n",
       " 104.0,\n",
       " 104.0,\n",
       " 88.4,\n",
       " 77.8,\n",
       " 73.87,\n",
       " 79.54,\n",
       " 79.54,\n",
       " 50.52,\n",
       " 50.52,\n",
       " 73.09,\n",
       " 73.09,\n",
       " 79.54,\n",
       " 79.54,\n",
       " 50.52,\n",
       " 50.52,\n",
       " 73.09,\n",
       " 73.09,\n",
       " 64.49,\n",
       " 64.49,\n",
       " 64.47,\n",
       " 64.47,\n",
       " 51.59,\n",
       " 51.59,\n",
       " 70.95,\n",
       " 70.95,\n",
       " 66.65,\n",
       " 66.65,\n",
       " 78.25,\n",
       " 78.25,\n",
       " 142.0,\n",
       " 55.0,\n",
       " 47.0,\n",
       " 105.0,\n",
       " 76.73,\n",
       " 93.78,\n",
       " 62.02,\n",
       " 65.97,\n",
       " 51.0,\n",
       " 160.0,\n",
       " 360.0,\n",
       " 62.0,\n",
       " 65.0,\n",
       " 47.73,\n",
       " 56.0,\n",
       " 55.0,\n",
       " 56.0,\n",
       " 52.0,\n",
       " 118.0,\n",
       " 227.0,\n",
       " 252.0,\n",
       " 255.0,\n",
       " 95.35,\n",
       " 93.31,\n",
       " 77.19,\n",
       " 97.34,\n",
       " 75.02,\n",
       " 93.62,\n",
       " 72.85,\n",
       " 91.76,\n",
       " 95.79,\n",
       " 93.93,\n",
       " 96.72,\n",
       " 93.0,\n",
       " 69.28,\n",
       " 55.78,\n",
       " 82.33,\n",
       " 62.53,\n",
       " 74.68,\n",
       " 80.08,\n",
       " 73.78,\n",
       " 54.43,\n",
       " 67.48,\n",
       " 66.13,\n",
       " 72.88,\n",
       " 79.63,\n",
       " 73.33,\n",
       " 58.93,\n",
       " 85.03,\n",
       " 59.38,\n",
       " 75.13,\n",
       " 72.43,\n",
       " 55.33,\n",
       " 71.08,\n",
       " 75.58,\n",
       " 69.28,\n",
       " 55.78,\n",
       " 77.83,\n",
       " 82.33,\n",
       " 62.53,\n",
       " 74.68,\n",
       " 71.53,\n",
       " 80.08,\n",
       " 84.58,\n",
       " 73.78,\n",
       " 54.43,\n",
       " 67.48,\n",
       " 66.13,\n",
       " 89.98,\n",
       " 72.88,\n",
       " 79.63,\n",
       " 73.33,\n",
       " 58.93,\n",
       " 57.13,\n",
       " 85.03,\n",
       " 59.38,\n",
       " 72.43,\n",
       " 57.58,\n",
       " 71.08,\n",
       " 77.83,\n",
       " 71.53,\n",
       " 84.13,\n",
       " 84.58,\n",
       " 64.33,\n",
       " 89.98,\n",
       " 57.13,\n",
       " 57.58,\n",
       " 77.38,\n",
       " 84.13,\n",
       " 76.03,\n",
       " 64.33,\n",
       " 77.38,\n",
       " 76.03,\n",
       " 76.48,\n",
       " 76.48,\n",
       " 51.0,\n",
       " 704.0,\n",
       " 573.0,\n",
       " 617.0,\n",
       " 590.0,\n",
       " 577.0,\n",
       " 623.0,\n",
       " 60.0,\n",
       " 45.0,\n",
       " 84.0,\n",
       " 106.0,\n",
       " 183.0,\n",
       " 56.0,\n",
       " 150.0,\n",
       " 73.4,\n",
       " 170.0,\n",
       " 51.6,\n",
       " 31.7,\n",
       " 31.8,\n",
       " 370.0,\n",
       " 24.0,\n",
       " 23.5,\n",
       " 51.6,\n",
       " 110.0,\n",
       " 160.0,\n",
       " 120.0,\n",
       " 54.0,\n",
       " 49.0,\n",
       " 36.0,\n",
       " 41.14,\n",
       " 265.0,\n",
       " 155.0,\n",
       " 115.0,\n",
       " 19.99,\n",
       " 50.0,\n",
       " 200.0,\n",
       " 35.0,\n",
       " 80.0,\n",
       " 89.0,\n",
       " 105.0,\n",
       " 89.0,\n",
       " 150.0,\n",
       " 62.0,\n",
       " 69.0,\n",
       " 72.5,\n",
       " 49.99,\n",
       " 245.0,\n",
       " 188.0,\n",
       " 75.0,\n",
       " 68.0,\n",
       " 89.0,\n",
       " 55.97,\n",
       " 75.48,\n",
       " 75.48,\n",
       " 25.0,\n",
       " 115.0,\n",
       " 47.0,\n",
       " 55.0,\n",
       " 150.0,\n",
       " 65.0,\n",
       " 66.0,\n",
       " 75.0,\n",
       " 83.0,\n",
       " 36.0,\n",
       " 249.0,\n",
       " 160.0,\n",
       " 250.0,\n",
       " 56.5,\n",
       " 54.0,\n",
       " 58.0,\n",
       " 60.0,\n",
       " 185.0,\n",
       " 190.0,\n",
       " 123.0,\n",
       " 85.0,\n",
       " 89.0,\n",
       " 35.0,\n",
       " 160.0,\n",
       " 54.99,\n",
       " 124.0,\n",
       " 54.99,\n",
       " 124.0,\n",
       " 225.0,\n",
       " 225.0,\n",
       " 76.0,\n",
       " 110.0,\n",
       " 48.0,\n",
       " 165.0,\n",
       " 80.0,\n",
       " 113.0,\n",
       " 57.0,\n",
       " 176.0,\n",
       " 55.0,\n",
       " 125.0,\n",
       " 99.0,\n",
       " 28.0,\n",
       " 125.0,\n",
       " 63.0,\n",
       " 69.65,\n",
       " 63.0,\n",
       " 65.0,\n",
       " 500.0,\n",
       " 80.0,\n",
       " 55.0,\n",
       " 150.0,\n",
       " 90.0,\n",
       " 90.0,\n",
       " 58.24,\n",
       " 39.0,\n",
       " 80.0,\n",
       " 80.0,\n",
       " 79.0,\n",
       " 80.0,\n",
       " 127.0,\n",
       " 155.0,\n",
       " 110.0,\n",
       " 73.0,\n",
       " 125.0,\n",
       " 74.0,\n",
       " 52.0,\n",
       " 125.0,\n",
       " 41.4,\n",
       " 36.4,\n",
       " 88.0,\n",
       " 80.0,\n",
       " 90.0,\n",
       " 95.0,\n",
       " 160.0,\n",
       " 150.0,\n",
       " 51.6,\n",
       " 60.0,\n",
       " 140.0,\n",
       " 100.0,\n",
       " 150.0,\n",
       " 35.0,\n",
       " 63.0,\n",
       " 32.0,\n",
       " 86.5,\n",
       " 65.0,\n",
       " 23.0,\n",
       " 44.0,\n",
       " 197.0,\n",
       " 175.0,\n",
       " 71.68,\n",
       " 70.0,\n",
       " 40.0,\n",
       " 84.0,\n",
       " 35.0,\n",
       " 130.0,\n",
       " 59.28,\n",
       " 140.0,\n",
       " 52.0,\n",
       " 172.0,\n",
       " 150.0,\n",
       " 65.0,\n",
       " 90.0,\n",
       " 55.0,\n",
       " 48.0,\n",
       " 190.0,\n",
       " 34.0,\n",
       " 210.0,\n",
       " 22.0,\n",
       " 55.0,\n",
       " 95.0,\n",
       " 44.0,\n",
       " 145.0,\n",
       " 27.0,\n",
       " 27.0,\n",
       " 51.0,\n",
       " 48.0,\n",
       " 55.0,\n",
       " 122.0,\n",
       " 155.0,\n",
       " 180.0,\n",
       " 29.0,\n",
       " 139.0,\n",
       " 154.0,\n",
       " 115.0,\n",
       " 40.0,\n",
       " 450.0,\n",
       " 82.0,\n",
       " 45.0,\n",
       " 500.0,\n",
       " 108.0,\n",
       " 52.21,\n",
       " 122.0,\n",
       " 45.0,\n",
       " 290.0,\n",
       " 256.0,\n",
       " 48.0,\n",
       " 35.0,\n",
       " 89.0,\n",
       " 69.5,\n",
       " 115.0,\n",
       " 55.0,\n",
       " 1400.0,\n",
       " 60.0,\n",
       " 146.0,\n",
       " 112.0,\n",
       " 200.0,\n",
       " 38.7,\n",
       " 150.0,\n",
       " 316.0,\n",
       " 79.0,\n",
       " 100.0,\n",
       " 88.0,\n",
       " 40.0,\n",
       " 67.0,\n",
       " 42.0,\n",
       " 36.0,\n",
       " 70.0,\n",
       " 410.0,\n",
       " 108.0,\n",
       " 108.0,\n",
       " 97.0,\n",
       " 108.0,\n",
       " 112.0,\n",
       " 97.0,\n",
       " 108.0,\n",
       " 108.0,\n",
       " 58.0,\n",
       " 112.0,\n",
       " 55.0,\n",
       " 35.0,\n",
       " 186.0,\n",
       " 47.0,\n",
       " 39.54,\n",
       " 70.0,\n",
       " 95.0,\n",
       " 123.0,\n",
       " 63.0,\n",
       " 100.0,\n",
       " 139.0,\n",
       " 46.0,\n",
       " 139.0,\n",
       " 316.0,\n",
       " 102.0,\n",
       " 40.0,\n",
       " 67.0,\n",
       " 65.0,\n",
       " 220.0,\n",
       " 35.0,\n",
       " 150.0,\n",
       " 89.0,\n",
       " 280.0,\n",
       " 150.0,\n",
       " 38.7,\n",
       " 150.0,\n",
       " 316.0,\n",
       " 79.0,\n",
       " 100.0,\n",
       " 88.0,\n",
       " 96.0,\n",
       " 175.0,\n",
       " 60.0,\n",
       " 58.0,\n",
       " 186.0,\n",
       " 47.0,\n",
       " 39.54,\n",
       " 70.0,\n",
       " 50.0,\n",
       " 50.0,\n",
       " 50.0,\n",
       " 45.0,\n",
       " 80.0,\n",
       " 130.0,\n",
       " 57.8,\n",
       " 44.86,\n",
       " 57.0,\n",
       " 58.0,\n",
       " 55.0,\n",
       " 420.0,\n",
       " 42.0,\n",
       " 75.0,\n",
       " 180.0,\n",
       " 180.0,\n",
       " 180.0,\n",
       " 180.0,\n",
       " 180.0,\n",
       " 180.0,\n",
       " 280.0,\n",
       " 150.0,\n",
       " 79.0,\n",
       " 88.0,\n",
       " 43.0,\n",
       " 316.0,\n",
       " 100.0,\n",
       " 105.0,\n",
       " 58.0,\n",
       " 48.0,\n",
       " 72.0,\n",
       " 63.0,\n",
       " 100.0,\n",
       " 92.0,\n",
       " 150.0,\n",
       " 38.7,\n",
       " 156.0,\n",
       " 82.0,\n",
       " 82.0,\n",
       " 380.0,\n",
       " 65.5,\n",
       " 220.0,\n",
       " 35.0,\n",
       " 123.0,\n",
       " 160.0,\n",
       " 120.0,\n",
       " 39.6,\n",
       " 87.5,\n",
       " 63.0,\n",
       " 63.0,\n",
       " 42.0,\n",
       " 40.0,\n",
       " 67.0,\n",
       " 110.0,\n",
       " 55.0,\n",
       " 170.0,\n",
       " 30.0,\n",
       " 37.0,\n",
       " 51.65,\n",
       " 82.0,\n",
       " 39.54,\n",
       " 96.0,\n",
       " 175.0,\n",
       " 60.0,\n",
       " 95.0,\n",
       " 139.0,\n",
       " 46.0,\n",
       " 139.0,\n",
       " 70.0,\n",
       " 35.0,\n",
       " 58.0,\n",
       " 48.0,\n",
       " 72.0,\n",
       " 63.0,\n",
       " 100.0,\n",
       " 186.0,\n",
       " 47.0,\n",
       " 150.0,\n",
       " 89.0,\n",
       " 650.0,\n",
       " 295.0,\n",
       " 295.0,\n",
       " 295.0,\n",
       " 295.0,\n",
       " 44.0,\n",
       " 295.0,\n",
       " 375.0,\n",
       " 80.0,\n",
       " 167.0,\n",
       " 57.52,\n",
       " 105.0,\n",
       " 70.63,\n",
       " 64.37,\n",
       " 64.37,\n",
       " 65.0,\n",
       " 25.0,\n",
       " 24.99,\n",
       " 66.25,\n",
       " 140.0,\n",
       " 45.0,\n",
       " 370.0,\n",
       " 370.0,\n",
       " 82.0,\n",
       " 78.0,\n",
       " 70.0,\n",
       " 24.0,\n",
       " 67.5,\n",
       " 110.0,\n",
       " 96.5,\n",
       " 81.5,\n",
       " 78.0,\n",
       " 68.0,\n",
       " 90.0,\n",
       " 109.0,\n",
       " 90.94,\n",
       " 111.0,\n",
       " 82.54,\n",
       " 77.75,\n",
       " 70.0,\n",
       " 205.0,\n",
       " 129.0,\n",
       " 24.0,\n",
       " 114.0,\n",
       " 113.0,\n",
       " 114.0,\n",
       " 98.0,\n",
       " 98.73,\n",
       " 87.7,\n",
       " 88.73,\n",
       " 45.0,\n",
       " 65.0,\n",
       " 75.0,\n",
       " 17.0,\n",
       " 53.0,\n",
       " 272.0,\n",
       " 180.0,\n",
       " 38.0,\n",
       " 87.0,\n",
       " 95.0,\n",
       " 150.0]"
      ]
     },
     "execution_count": 34,
     "metadata": {},
     "output_type": "execute_result"
    }
   ],
   "source": [
    "rate"
   ]
  },
  {
   "cell_type": "code",
   "execution_count": 35,
   "id": "d300e823",
   "metadata": {},
   "outputs": [],
   "source": [
    "df['price(in_lakhs)']=rate\n",
    "df.drop('price',axis=1,inplace=True)"
   ]
  },
  {
   "cell_type": "code",
   "execution_count": 36,
   "id": "116b3d34",
   "metadata": {},
   "outputs": [
    {
     "data": {
      "text/html": [
       "<div>\n",
       "<style scoped>\n",
       "    .dataframe tbody tr th:only-of-type {\n",
       "        vertical-align: middle;\n",
       "    }\n",
       "\n",
       "    .dataframe tbody tr th {\n",
       "        vertical-align: top;\n",
       "    }\n",
       "\n",
       "    .dataframe thead th {\n",
       "        text-align: right;\n",
       "    }\n",
       "</style>\n",
       "<table border=\"1\" class=\"dataframe\">\n",
       "  <thead>\n",
       "    <tr style=\"text-align: right;\">\n",
       "      <th></th>\n",
       "      <th>Unnamed: 0</th>\n",
       "      <th>property_type</th>\n",
       "      <th>seller</th>\n",
       "      <th>status</th>\n",
       "      <th>rate per sqft</th>\n",
       "      <th>area</th>\n",
       "      <th>location</th>\n",
       "      <th>RERA</th>\n",
       "      <th>BHK</th>\n",
       "      <th>projectname</th>\n",
       "      <th>price(in_lakhs)</th>\n",
       "    </tr>\n",
       "  </thead>\n",
       "  <tbody>\n",
       "    <tr>\n",
       "      <th>0</th>\n",
       "      <td>0</td>\n",
       "      <td>Apartment</td>\n",
       "      <td>ELV Projects</td>\n",
       "      <td>Under Construction</td>\n",
       "      <td>3800.0</td>\n",
       "      <td>1395</td>\n",
       "      <td>Adibatla</td>\n",
       "      <td>approval by RERA</td>\n",
       "      <td>2</td>\n",
       "      <td>ELV ELV Cosmopolis</td>\n",
       "      <td>53.01</td>\n",
       "    </tr>\n",
       "    <tr>\n",
       "      <th>1</th>\n",
       "      <td>1</td>\n",
       "      <td>Villa</td>\n",
       "      <td>Vajra Builders And Developers</td>\n",
       "      <td>Under Construction</td>\n",
       "      <td>7000.0</td>\n",
       "      <td>2300</td>\n",
       "      <td>Bachupally</td>\n",
       "      <td>approval by RERA</td>\n",
       "      <td>4</td>\n",
       "      <td>Vajra Nature City</td>\n",
       "      <td>161.00</td>\n",
       "    </tr>\n",
       "    <tr>\n",
       "      <th>2</th>\n",
       "      <td>2</td>\n",
       "      <td>Apartment</td>\n",
       "      <td>GHR Infra</td>\n",
       "      <td>Under Construction</td>\n",
       "      <td>6749.0</td>\n",
       "      <td>1770</td>\n",
       "      <td>Kondapur</td>\n",
       "      <td>approval by RERA</td>\n",
       "      <td>3</td>\n",
       "      <td>GHR Titania</td>\n",
       "      <td>119.00</td>\n",
       "    </tr>\n",
       "    <tr>\n",
       "      <th>3</th>\n",
       "      <td>3</td>\n",
       "      <td>Apartment</td>\n",
       "      <td>Hallmark Builders</td>\n",
       "      <td>Under Construction</td>\n",
       "      <td>6999.0</td>\n",
       "      <td>3830</td>\n",
       "      <td>Gandipet</td>\n",
       "      <td>approval by RERA</td>\n",
       "      <td>3</td>\n",
       "      <td>Hallmark Treasor</td>\n",
       "      <td>268.00</td>\n",
       "    </tr>\n",
       "    <tr>\n",
       "      <th>4</th>\n",
       "      <td>4</td>\n",
       "      <td>Apartment</td>\n",
       "      <td>Sumadhura Infracon Pvt Ltd</td>\n",
       "      <td>Under Construction</td>\n",
       "      <td>7499.0</td>\n",
       "      <td>1670</td>\n",
       "      <td>Nanakramguda</td>\n",
       "      <td>approval by RERA</td>\n",
       "      <td>3</td>\n",
       "      <td>Sumadhura The Olympus</td>\n",
       "      <td>125.00</td>\n",
       "    </tr>\n",
       "  </tbody>\n",
       "</table>\n",
       "</div>"
      ],
      "text/plain": [
       "   Unnamed: 0 property_type                         seller  \\\n",
       "0           0     Apartment                   ELV Projects   \n",
       "1           1         Villa  Vajra Builders And Developers   \n",
       "2           2     Apartment                      GHR Infra   \n",
       "3           3     Apartment              Hallmark Builders   \n",
       "4           4     Apartment     Sumadhura Infracon Pvt Ltd   \n",
       "\n",
       "               status  rate per sqft  area      location              RERA  \\\n",
       "0  Under Construction         3800.0  1395      Adibatla  approval by RERA   \n",
       "1  Under Construction         7000.0  2300    Bachupally  approval by RERA   \n",
       "2  Under Construction         6749.0  1770      Kondapur  approval by RERA   \n",
       "3  Under Construction         6999.0  3830      Gandipet  approval by RERA   \n",
       "4  Under Construction         7499.0  1670  Nanakramguda  approval by RERA   \n",
       "\n",
       "   BHK            projectname  price(in_lakhs)  \n",
       "0    2    ELV ELV Cosmopolis             53.01  \n",
       "1    4      Vajra Nature City           161.00  \n",
       "2    3            GHR Titania           119.00  \n",
       "3    3       Hallmark Treasor           268.00  \n",
       "4    3  Sumadhura The Olympus           125.00  "
      ]
     },
     "execution_count": 36,
     "metadata": {},
     "output_type": "execute_result"
    }
   ],
   "source": [
    "df.head()"
   ]
  },
  {
   "cell_type": "code",
   "execution_count": 37,
   "id": "51c7d49c",
   "metadata": {},
   "outputs": [
    {
     "name": "stdout",
     "output_type": "stream",
     "text": [
      "<class 'pandas.core.frame.DataFrame'>\n",
      "RangeIndex: 980 entries, 0 to 979\n",
      "Data columns (total 11 columns):\n",
      " #   Column           Non-Null Count  Dtype  \n",
      "---  ------           --------------  -----  \n",
      " 0   Unnamed: 0       980 non-null    int64  \n",
      " 1   property_type    980 non-null    object \n",
      " 2   seller           980 non-null    object \n",
      " 3   status           980 non-null    object \n",
      " 4   rate per sqft    980 non-null    float64\n",
      " 5   area             980 non-null    int64  \n",
      " 6   location         980 non-null    object \n",
      " 7   RERA             980 non-null    object \n",
      " 8   BHK              980 non-null    int32  \n",
      " 9   projectname      980 non-null    object \n",
      " 10  price(in_lakhs)  980 non-null    float64\n",
      "dtypes: float64(2), int32(1), int64(2), object(6)\n",
      "memory usage: 80.5+ KB\n"
     ]
    }
   ],
   "source": [
    "df.info()"
   ]
  },
  {
   "cell_type": "code",
   "execution_count": 38,
   "id": "ec002008",
   "metadata": {},
   "outputs": [],
   "source": [
    "df.drop('Unnamed: 0',axis=1,inplace=True)"
   ]
  },
  {
   "cell_type": "code",
   "execution_count": 39,
   "id": "c7a8476b",
   "metadata": {},
   "outputs": [
    {
     "data": {
      "text/plain": [
       "(980, 10)"
      ]
     },
     "execution_count": 39,
     "metadata": {},
     "output_type": "execute_result"
    }
   ],
   "source": [
    "df.shape"
   ]
  },
  {
   "cell_type": "code",
   "execution_count": 40,
   "id": "6b6282bd",
   "metadata": {},
   "outputs": [
    {
     "data": {
      "text/html": [
       "<div>\n",
       "<style scoped>\n",
       "    .dataframe tbody tr th:only-of-type {\n",
       "        vertical-align: middle;\n",
       "    }\n",
       "\n",
       "    .dataframe tbody tr th {\n",
       "        vertical-align: top;\n",
       "    }\n",
       "\n",
       "    .dataframe thead th {\n",
       "        text-align: right;\n",
       "    }\n",
       "</style>\n",
       "<table border=\"1\" class=\"dataframe\">\n",
       "  <thead>\n",
       "    <tr style=\"text-align: right;\">\n",
       "      <th></th>\n",
       "      <th>rate per sqft</th>\n",
       "      <th>area</th>\n",
       "      <th>BHK</th>\n",
       "      <th>price(in_lakhs)</th>\n",
       "    </tr>\n",
       "  </thead>\n",
       "  <tbody>\n",
       "    <tr>\n",
       "      <th>count</th>\n",
       "      <td>980.000000</td>\n",
       "      <td>980.000000</td>\n",
       "      <td>980.000000</td>\n",
       "      <td>980.000000</td>\n",
       "    </tr>\n",
       "    <tr>\n",
       "      <th>mean</th>\n",
       "      <td>6005.497959</td>\n",
       "      <td>1938.273469</td>\n",
       "      <td>2.914286</td>\n",
       "      <td>123.289092</td>\n",
       "    </tr>\n",
       "    <tr>\n",
       "      <th>std</th>\n",
       "      <td>4398.169566</td>\n",
       "      <td>1197.099930</td>\n",
       "      <td>1.082312</td>\n",
       "      <td>122.453721</td>\n",
       "    </tr>\n",
       "    <tr>\n",
       "      <th>min</th>\n",
       "      <td>1739.000000</td>\n",
       "      <td>379.000000</td>\n",
       "      <td>1.000000</td>\n",
       "      <td>17.000000</td>\n",
       "    </tr>\n",
       "    <tr>\n",
       "      <th>25%</th>\n",
       "      <td>4570.250000</td>\n",
       "      <td>1232.250000</td>\n",
       "      <td>2.000000</td>\n",
       "      <td>62.000000</td>\n",
       "    </tr>\n",
       "    <tr>\n",
       "      <th>50%</th>\n",
       "      <td>5399.000000</td>\n",
       "      <td>1601.000000</td>\n",
       "      <td>3.000000</td>\n",
       "      <td>86.940000</td>\n",
       "    </tr>\n",
       "    <tr>\n",
       "      <th>75%</th>\n",
       "      <td>6450.000000</td>\n",
       "      <td>2142.500000</td>\n",
       "      <td>3.000000</td>\n",
       "      <td>129.000000</td>\n",
       "    </tr>\n",
       "    <tr>\n",
       "      <th>max</th>\n",
       "      <td>114678.000000</td>\n",
       "      <td>12500.000000</td>\n",
       "      <td>10.000000</td>\n",
       "      <td>1400.000000</td>\n",
       "    </tr>\n",
       "  </tbody>\n",
       "</table>\n",
       "</div>"
      ],
      "text/plain": [
       "       rate per sqft          area         BHK  price(in_lakhs)\n",
       "count     980.000000    980.000000  980.000000       980.000000\n",
       "mean     6005.497959   1938.273469    2.914286       123.289092\n",
       "std      4398.169566   1197.099930    1.082312       122.453721\n",
       "min      1739.000000    379.000000    1.000000        17.000000\n",
       "25%      4570.250000   1232.250000    2.000000        62.000000\n",
       "50%      5399.000000   1601.000000    3.000000        86.940000\n",
       "75%      6450.000000   2142.500000    3.000000       129.000000\n",
       "max    114678.000000  12500.000000   10.000000      1400.000000"
      ]
     },
     "execution_count": 40,
     "metadata": {},
     "output_type": "execute_result"
    }
   ],
   "source": [
    "df.describe()"
   ]
  },
  {
   "cell_type": "code",
   "execution_count": 41,
   "id": "a1870fc1",
   "metadata": {},
   "outputs": [
    {
     "data": {
      "text/html": [
       "<div>\n",
       "<style scoped>\n",
       "    .dataframe tbody tr th:only-of-type {\n",
       "        vertical-align: middle;\n",
       "    }\n",
       "\n",
       "    .dataframe tbody tr th {\n",
       "        vertical-align: top;\n",
       "    }\n",
       "\n",
       "    .dataframe thead th {\n",
       "        text-align: right;\n",
       "    }\n",
       "</style>\n",
       "<table border=\"1\" class=\"dataframe\">\n",
       "  <thead>\n",
       "    <tr style=\"text-align: right;\">\n",
       "      <th></th>\n",
       "      <th>property_type</th>\n",
       "      <th>seller</th>\n",
       "      <th>status</th>\n",
       "      <th>location</th>\n",
       "      <th>RERA</th>\n",
       "      <th>projectname</th>\n",
       "    </tr>\n",
       "  </thead>\n",
       "  <tbody>\n",
       "    <tr>\n",
       "      <th>count</th>\n",
       "      <td>980</td>\n",
       "      <td>980</td>\n",
       "      <td>980</td>\n",
       "      <td>980</td>\n",
       "      <td>980</td>\n",
       "      <td>980</td>\n",
       "    </tr>\n",
       "    <tr>\n",
       "      <th>unique</th>\n",
       "      <td>4</td>\n",
       "      <td>34</td>\n",
       "      <td>2</td>\n",
       "      <td>147</td>\n",
       "      <td>2</td>\n",
       "      <td>174</td>\n",
       "    </tr>\n",
       "    <tr>\n",
       "      <th>top</th>\n",
       "      <td>Apartment</td>\n",
       "      <td>seller</td>\n",
       "      <td>Under Construction</td>\n",
       "      <td>Mallampet</td>\n",
       "      <td>approval by RERA</td>\n",
       "      <td>not mentioned</td>\n",
       "    </tr>\n",
       "    <tr>\n",
       "      <th>freq</th>\n",
       "      <td>764</td>\n",
       "      <td>527</td>\n",
       "      <td>622</td>\n",
       "      <td>67</td>\n",
       "      <td>503</td>\n",
       "      <td>318</td>\n",
       "    </tr>\n",
       "  </tbody>\n",
       "</table>\n",
       "</div>"
      ],
      "text/plain": [
       "       property_type  seller              status   location              RERA  \\\n",
       "count            980     980                 980        980               980   \n",
       "unique             4      34                   2        147                 2   \n",
       "top        Apartment  seller  Under Construction  Mallampet  approval by RERA   \n",
       "freq             764     527                 622         67               503   \n",
       "\n",
       "          projectname  \n",
       "count             980  \n",
       "unique            174  \n",
       "top     not mentioned  \n",
       "freq              318  "
      ]
     },
     "execution_count": 41,
     "metadata": {},
     "output_type": "execute_result"
    }
   ],
   "source": [
    "df.describe(include=object)"
   ]
  },
  {
   "cell_type": "code",
   "execution_count": 42,
   "id": "3d079634",
   "metadata": {},
   "outputs": [
    {
     "data": {
      "text/plain": [
       "property_type      0\n",
       "seller             0\n",
       "status             0\n",
       "rate per sqft      0\n",
       "area               0\n",
       "location           0\n",
       "RERA               0\n",
       "BHK                0\n",
       "projectname        0\n",
       "price(in_lakhs)    0\n",
       "dtype: int64"
      ]
     },
     "execution_count": 42,
     "metadata": {},
     "output_type": "execute_result"
    }
   ],
   "source": [
    "df.isnull().sum()"
   ]
  },
  {
   "cell_type": "code",
   "execution_count": 43,
   "id": "be6509df",
   "metadata": {},
   "outputs": [
    {
     "data": {
      "text/plain": [
       "Index(['property_type', 'seller', 'status', 'rate per sqft', 'area',\n",
       "       'location', 'RERA', 'BHK', 'projectname', 'price(in_lakhs)'],\n",
       "      dtype='object')"
      ]
     },
     "execution_count": 43,
     "metadata": {},
     "output_type": "execute_result"
    }
   ],
   "source": [
    "df.columns"
   ]
  },
  {
   "cell_type": "code",
   "execution_count": 44,
   "id": "35de1514",
   "metadata": {},
   "outputs": [
    {
     "data": {
      "text/html": [
       "<div>\n",
       "<style scoped>\n",
       "    .dataframe tbody tr th:only-of-type {\n",
       "        vertical-align: middle;\n",
       "    }\n",
       "\n",
       "    .dataframe tbody tr th {\n",
       "        vertical-align: top;\n",
       "    }\n",
       "\n",
       "    .dataframe thead th {\n",
       "        text-align: right;\n",
       "    }\n",
       "</style>\n",
       "<table border=\"1\" class=\"dataframe\">\n",
       "  <thead>\n",
       "    <tr style=\"text-align: right;\">\n",
       "      <th></th>\n",
       "      <th>property_type</th>\n",
       "      <th>seller</th>\n",
       "      <th>status</th>\n",
       "      <th>rate per sqft</th>\n",
       "      <th>area</th>\n",
       "      <th>location</th>\n",
       "      <th>RERA</th>\n",
       "      <th>BHK</th>\n",
       "      <th>projectname</th>\n",
       "      <th>price(in_lakhs)</th>\n",
       "    </tr>\n",
       "  </thead>\n",
       "  <tbody>\n",
       "    <tr>\n",
       "      <th>0</th>\n",
       "      <td>Apartment</td>\n",
       "      <td>ELV Projects</td>\n",
       "      <td>Under Construction</td>\n",
       "      <td>3800.0</td>\n",
       "      <td>1395</td>\n",
       "      <td>Adibatla</td>\n",
       "      <td>approval by RERA</td>\n",
       "      <td>2</td>\n",
       "      <td>ELV ELV Cosmopolis</td>\n",
       "      <td>53.01</td>\n",
       "    </tr>\n",
       "    <tr>\n",
       "      <th>1</th>\n",
       "      <td>Villa</td>\n",
       "      <td>Vajra Builders And Developers</td>\n",
       "      <td>Under Construction</td>\n",
       "      <td>7000.0</td>\n",
       "      <td>2300</td>\n",
       "      <td>Bachupally</td>\n",
       "      <td>approval by RERA</td>\n",
       "      <td>4</td>\n",
       "      <td>Vajra Nature City</td>\n",
       "      <td>161.00</td>\n",
       "    </tr>\n",
       "    <tr>\n",
       "      <th>2</th>\n",
       "      <td>Apartment</td>\n",
       "      <td>GHR Infra</td>\n",
       "      <td>Under Construction</td>\n",
       "      <td>6749.0</td>\n",
       "      <td>1770</td>\n",
       "      <td>Kondapur</td>\n",
       "      <td>approval by RERA</td>\n",
       "      <td>3</td>\n",
       "      <td>GHR Titania</td>\n",
       "      <td>119.00</td>\n",
       "    </tr>\n",
       "    <tr>\n",
       "      <th>3</th>\n",
       "      <td>Apartment</td>\n",
       "      <td>Hallmark Builders</td>\n",
       "      <td>Under Construction</td>\n",
       "      <td>6999.0</td>\n",
       "      <td>3830</td>\n",
       "      <td>Gandipet</td>\n",
       "      <td>approval by RERA</td>\n",
       "      <td>3</td>\n",
       "      <td>Hallmark Treasor</td>\n",
       "      <td>268.00</td>\n",
       "    </tr>\n",
       "    <tr>\n",
       "      <th>4</th>\n",
       "      <td>Apartment</td>\n",
       "      <td>Sumadhura Infracon Pvt Ltd</td>\n",
       "      <td>Under Construction</td>\n",
       "      <td>7499.0</td>\n",
       "      <td>1670</td>\n",
       "      <td>Nanakramguda</td>\n",
       "      <td>approval by RERA</td>\n",
       "      <td>3</td>\n",
       "      <td>Sumadhura The Olympus</td>\n",
       "      <td>125.00</td>\n",
       "    </tr>\n",
       "    <tr>\n",
       "      <th>...</th>\n",
       "      <td>...</td>\n",
       "      <td>...</td>\n",
       "      <td>...</td>\n",
       "      <td>...</td>\n",
       "      <td>...</td>\n",
       "      <td>...</td>\n",
       "      <td>...</td>\n",
       "      <td>...</td>\n",
       "      <td>...</td>\n",
       "      <td>...</td>\n",
       "    </tr>\n",
       "    <tr>\n",
       "      <th>975</th>\n",
       "      <td>Independent</td>\n",
       "      <td>seller</td>\n",
       "      <td>Ready to move</td>\n",
       "      <td>5142.0</td>\n",
       "      <td>3500</td>\n",
       "      <td>Kukatpally</td>\n",
       "      <td>not approval by RERA</td>\n",
       "      <td>6</td>\n",
       "      <td>not mentioned</td>\n",
       "      <td>180.00</td>\n",
       "    </tr>\n",
       "    <tr>\n",
       "      <th>976</th>\n",
       "      <td>Apartment</td>\n",
       "      <td>seller</td>\n",
       "      <td>Ready to move</td>\n",
       "      <td>3800.0</td>\n",
       "      <td>1000</td>\n",
       "      <td>Gandi Maisamma</td>\n",
       "      <td>not approval by RERA</td>\n",
       "      <td>2</td>\n",
       "      <td>not mentioned</td>\n",
       "      <td>38.00</td>\n",
       "    </tr>\n",
       "    <tr>\n",
       "      <th>977</th>\n",
       "      <td>Apartment</td>\n",
       "      <td>seller</td>\n",
       "      <td>Ready to move</td>\n",
       "      <td>7073.0</td>\n",
       "      <td>1230</td>\n",
       "      <td>Manikonda</td>\n",
       "      <td>not approval by RERA</td>\n",
       "      <td>2</td>\n",
       "      <td>not mentioned</td>\n",
       "      <td>87.00</td>\n",
       "    </tr>\n",
       "    <tr>\n",
       "      <th>978</th>\n",
       "      <td>Villa</td>\n",
       "      <td>seller</td>\n",
       "      <td>Under Construction</td>\n",
       "      <td>3653.0</td>\n",
       "      <td>2600</td>\n",
       "      <td>Mokila</td>\n",
       "      <td>not approval by RERA</td>\n",
       "      <td>3</td>\n",
       "      <td>not mentioned</td>\n",
       "      <td>95.00</td>\n",
       "    </tr>\n",
       "    <tr>\n",
       "      <th>979</th>\n",
       "      <td>Villa</td>\n",
       "      <td>seller</td>\n",
       "      <td>Under Construction</td>\n",
       "      <td>6172.0</td>\n",
       "      <td>2430</td>\n",
       "      <td>Indresham</td>\n",
       "      <td>not approval by RERA</td>\n",
       "      <td>4</td>\n",
       "      <td>not mentioned</td>\n",
       "      <td>150.00</td>\n",
       "    </tr>\n",
       "  </tbody>\n",
       "</table>\n",
       "<p>980 rows × 10 columns</p>\n",
       "</div>"
      ],
      "text/plain": [
       "    property_type                         seller              status  \\\n",
       "0       Apartment                   ELV Projects  Under Construction   \n",
       "1           Villa  Vajra Builders And Developers  Under Construction   \n",
       "2       Apartment                      GHR Infra  Under Construction   \n",
       "3       Apartment              Hallmark Builders  Under Construction   \n",
       "4       Apartment     Sumadhura Infracon Pvt Ltd  Under Construction   \n",
       "..            ...                            ...                 ...   \n",
       "975   Independent                         seller       Ready to move   \n",
       "976     Apartment                         seller       Ready to move   \n",
       "977     Apartment                         seller       Ready to move   \n",
       "978         Villa                         seller  Under Construction   \n",
       "979         Villa                         seller  Under Construction   \n",
       "\n",
       "     rate per sqft  area        location                  RERA  BHK  \\\n",
       "0           3800.0  1395        Adibatla      approval by RERA    2   \n",
       "1           7000.0  2300      Bachupally      approval by RERA    4   \n",
       "2           6749.0  1770        Kondapur      approval by RERA    3   \n",
       "3           6999.0  3830        Gandipet      approval by RERA    3   \n",
       "4           7499.0  1670    Nanakramguda      approval by RERA    3   \n",
       "..             ...   ...             ...                   ...  ...   \n",
       "975         5142.0  3500      Kukatpally  not approval by RERA    6   \n",
       "976         3800.0  1000  Gandi Maisamma  not approval by RERA    2   \n",
       "977         7073.0  1230       Manikonda  not approval by RERA    2   \n",
       "978         3653.0  2600          Mokila  not approval by RERA    3   \n",
       "979         6172.0  2430       Indresham  not approval by RERA    4   \n",
       "\n",
       "               projectname  price(in_lakhs)  \n",
       "0      ELV ELV Cosmopolis             53.01  \n",
       "1        Vajra Nature City           161.00  \n",
       "2              GHR Titania           119.00  \n",
       "3         Hallmark Treasor           268.00  \n",
       "4    Sumadhura The Olympus           125.00  \n",
       "..                     ...              ...  \n",
       "975          not mentioned           180.00  \n",
       "976          not mentioned            38.00  \n",
       "977          not mentioned            87.00  \n",
       "978          not mentioned            95.00  \n",
       "979          not mentioned           150.00  \n",
       "\n",
       "[980 rows x 10 columns]"
      ]
     },
     "execution_count": 44,
     "metadata": {},
     "output_type": "execute_result"
    }
   ],
   "source": [
    "df"
   ]
  },
  {
   "cell_type": "markdown",
   "id": "3aea1397",
   "metadata": {},
   "source": [
    "# DATA VISUALIZATION"
   ]
  },
  {
   "cell_type": "code",
   "execution_count": 45,
   "id": "5f373772",
   "metadata": {},
   "outputs": [],
   "source": [
    "import warnings\n",
    "warnings.filterwarnings('ignore')"
   ]
  },
  {
   "cell_type": "markdown",
   "id": "11ba43b1",
   "metadata": {},
   "source": [
    "# UNIVARIATE ANALYSIS"
   ]
  },
  {
   "cell_type": "markdown",
   "id": "e363fad3",
   "metadata": {},
   "source": [
    "# 1.count plot"
   ]
  },
  {
   "cell_type": "code",
   "execution_count": 46,
   "id": "2cfecddd",
   "metadata": {},
   "outputs": [
    {
     "data": {
      "text/plain": [
       "Text(0.5, 1.0, 'count plot of status')"
      ]
     },
     "execution_count": 46,
     "metadata": {},
     "output_type": "execute_result"
    },
    {
     "data": {
      "image/png": "[encoded data removed]",
      "text/plain": [
       "<Figure size 432x288 with 1 Axes>"
      ]
     },
     "metadata": {
      "needs_background": "light"
     },
     "output_type": "display_data"
    }
   ],
   "source": [
    "sns.countplot(df['status'])\n",
    "plt.title('count plot of status')"
   ]
  },
  {
   "cell_type": "code",
   "execution_count": 47,
   "id": "74d4b55c",
   "metadata": {},
   "outputs": [
    {
     "data": {
      "text/plain": [
       "Under Construction    622\n",
       "Ready to move         358\n",
       "Name: status, dtype: int64"
      ]
     },
     "execution_count": 47,
     "metadata": {},
     "output_type": "execute_result"
    }
   ],
   "source": [
    "df.status.value_counts()"
   ]
  },
  {
   "cell_type": "markdown",
   "id": "17b50fed",
   "metadata": {},
   "source": [
    "Observation : The most of houses are under construction "
   ]
  },
  {
   "cell_type": "code",
   "execution_count": 48,
   "id": "c3b967bd",
   "metadata": {},
   "outputs": [
    {
     "data": {
      "text/plain": [
       "Text(0.5, 1.0, 'count plot on BHK')"
      ]
     },
     "execution_count": 48,
     "metadata": {},
     "output_type": "execute_result"
    },
    {
     "data": {
      "image/png": "[encoded data removed]",
      "text/plain": [
       "<Figure size 432x288 with 1 Axes>"
      ]
     },
     "metadata": {
      "needs_background": "light"
     },
     "output_type": "display_data"
    }
   ],
   "source": [
    "sns.countplot(df['BHK'])\n",
    "plt.title('count plot on BHK')"
   ]
  },
  {
   "cell_type": "markdown",
   "id": "43274cd3",
   "metadata": {},
   "source": [
    "The number of  3 BHK houses are more available"
   ]
  },
  {
   "cell_type": "code",
   "execution_count": 49,
   "id": "bd82efde",
   "metadata": {},
   "outputs": [
    {
     "data": {
      "text/plain": [
       "Text(0.5, 1.0, 'count plot on property_type')"
      ]
     },
     "execution_count": 49,
     "metadata": {},
     "output_type": "execute_result"
    },
    {
     "data": {
      "image/png": "[encoded data removed]",
      "text/plain": [
       "<Figure size 432x288 with 1 Axes>"
      ]
     },
     "metadata": {
      "needs_background": "light"
     },
     "output_type": "display_data"
    }
   ],
   "source": [
    "sns.countplot(df['property_type'])\n",
    "plt.title('count plot on property_type')"
   ]
  },
  {
   "cell_type": "markdown",
   "id": "f3c2336f",
   "metadata": {},
   "source": [
    "most of the houses are apartment type"
   ]
  },
  {
   "cell_type": "markdown",
   "id": "52acab9b",
   "metadata": {},
   "source": [
    "# 2.distribution plot"
   ]
  },
  {
   "cell_type": "code",
   "execution_count": 50,
   "id": "4b29c754",
   "metadata": {
    "scrolled": true
   },
   "outputs": [
    {
     "data": {
      "image/png": "[encoded data removed]",
      "text/plain": [
       "<Figure size 432x288 with 1 Axes>"
      ]
     },
     "metadata": {
      "needs_background": "light"
     },
     "output_type": "display_data"
    }
   ],
   "source": [
    "sns.distplot(df['price(in_lakhs)'],bins=10)\n",
    "plt.title('distribution plot on price')\n",
    "plt.show()"
   ]
  },
  {
   "cell_type": "markdown",
   "id": "82f16f72",
   "metadata": {},
   "source": [
    "# 3.Box plot"
   ]
  },
  {
   "cell_type": "code",
   "execution_count": 51,
   "id": "6213c6fc",
   "metadata": {},
   "outputs": [
    {
     "data": {
      "image/png": "[encoded data removed]",
      "text/plain": [
       "<Figure size 432x288 with 1 Axes>"
      ]
     },
     "metadata": {
      "needs_background": "light"
     },
     "output_type": "display_data"
    }
   ],
   "source": [
    "plt.boxplot(df['rate per sqft'])\n",
    "plt.title('box plot on rate per sqft')\n",
    "plt.show()"
   ]
  },
  {
   "cell_type": "markdown",
   "id": "c39f2429",
   "metadata": {},
   "source": [
    "Observation: most of the values are spread between 0 and 20000"
   ]
  },
  {
   "cell_type": "markdown",
   "id": "cf3dd9e8",
   "metadata": {},
   "source": [
    "# 4.histogram"
   ]
  },
  {
   "cell_type": "code",
   "execution_count": 52,
   "id": "e6678e23",
   "metadata": {},
   "outputs": [
    {
     "data": {
      "image/png": "[encoded data removed]",
      "text/plain": [
       "<Figure size 864x432 with 1 Axes>"
      ]
     },
     "metadata": {
      "needs_background": "light"
     },
     "output_type": "display_data"
    }
   ],
   "source": [
    "df_ratepersqft=df[df['rate per sqft']<20000]\n",
    "plt.figure(figsize=(12,6))\n",
    "plt.hist(df_ratepersqft['rate per sqft'],bins=20,color='cyan',edgecolor='green')\n",
    "plt.xlim((0,20000))\n",
    "plt.ylim((0,300))\n",
    "plt.show()\n"
   ]
  },
  {
   "cell_type": "markdown",
   "id": "11732a5f",
   "metadata": {},
   "source": [
    "Observation: most of houses have 6500 to 7500 rs/sqft"
   ]
  },
  {
   "cell_type": "markdown",
   "id": "b652439d",
   "metadata": {},
   "source": [
    "# 5.Pie chart"
   ]
  },
  {
   "cell_type": "code",
   "execution_count": 53,
   "id": "d5460d98",
   "metadata": {},
   "outputs": [
    {
     "data": {
      "image/png": "[encoded data removed]",
      "text/plain": [
       "<Figure size 864x432 with 1 Axes>"
      ]
     },
     "metadata": {},
     "output_type": "display_data"
    }
   ],
   "source": [
    "plt.figure(figsize=(12,6))\n",
    "colors = ['r','g','b','y']\n",
    "label=['3 BHK','2 BHK','4 BHK','5 BHK']\n",
    "plt.pie(df['BHK'].value_counts().iloc[:4],labels=label,startangle=45,colors=colors,autopct='%1.1f%%')\n",
    "plt.show()"
   ]
  },
  {
   "cell_type": "markdown",
   "id": "54b9361e",
   "metadata": {},
   "source": [
    "Observation: above 50% houses are 3 BHK"
   ]
  },
  {
   "cell_type": "markdown",
   "id": "2925bc63",
   "metadata": {},
   "source": [
    "# BIVARIATE ANALYSIS"
   ]
  },
  {
   "cell_type": "code",
   "execution_count": 54,
   "id": "1f508462",
   "metadata": {},
   "outputs": [
    {
     "data": {
      "text/html": [
       "<div>\n",
       "<style scoped>\n",
       "    .dataframe tbody tr th:only-of-type {\n",
       "        vertical-align: middle;\n",
       "    }\n",
       "\n",
       "    .dataframe tbody tr th {\n",
       "        vertical-align: top;\n",
       "    }\n",
       "\n",
       "    .dataframe thead th {\n",
       "        text-align: right;\n",
       "    }\n",
       "</style>\n",
       "<table border=\"1\" class=\"dataframe\">\n",
       "  <thead>\n",
       "    <tr style=\"text-align: right;\">\n",
       "      <th></th>\n",
       "      <th></th>\n",
       "      <th>price(in_lakhs)</th>\n",
       "    </tr>\n",
       "    <tr>\n",
       "      <th>property_type</th>\n",
       "      <th>BHK</th>\n",
       "      <th></th>\n",
       "    </tr>\n",
       "  </thead>\n",
       "  <tbody>\n",
       "    <tr>\n",
       "      <th rowspan=\"6\" valign=\"top\">Apartment</th>\n",
       "      <th>1</th>\n",
       "      <td>31.487059</td>\n",
       "    </tr>\n",
       "    <tr>\n",
       "      <th>2</th>\n",
       "      <td>57.835700</td>\n",
       "    </tr>\n",
       "    <tr>\n",
       "      <th>3</th>\n",
       "      <td>104.910491</td>\n",
       "    </tr>\n",
       "    <tr>\n",
       "      <th>4</th>\n",
       "      <td>202.781250</td>\n",
       "    </tr>\n",
       "    <tr>\n",
       "      <th>5</th>\n",
       "      <td>388.666667</td>\n",
       "    </tr>\n",
       "    <tr>\n",
       "      <th>6</th>\n",
       "      <td>370.000000</td>\n",
       "    </tr>\n",
       "    <tr>\n",
       "      <th rowspan=\"9\" valign=\"top\">Independent</th>\n",
       "      <th>1</th>\n",
       "      <td>60.333333</td>\n",
       "    </tr>\n",
       "    <tr>\n",
       "      <th>2</th>\n",
       "      <td>105.916667</td>\n",
       "    </tr>\n",
       "    <tr>\n",
       "      <th>3</th>\n",
       "      <td>161.625000</td>\n",
       "    </tr>\n",
       "    <tr>\n",
       "      <th>4</th>\n",
       "      <td>150.392857</td>\n",
       "    </tr>\n",
       "    <tr>\n",
       "      <th>5</th>\n",
       "      <td>245.692308</td>\n",
       "    </tr>\n",
       "    <tr>\n",
       "      <th>6</th>\n",
       "      <td>179.375000</td>\n",
       "    </tr>\n",
       "    <tr>\n",
       "      <th>7</th>\n",
       "      <td>333.333333</td>\n",
       "    </tr>\n",
       "    <tr>\n",
       "      <th>8</th>\n",
       "      <td>218.333333</td>\n",
       "    </tr>\n",
       "    <tr>\n",
       "      <th>10</th>\n",
       "      <td>338.333333</td>\n",
       "    </tr>\n",
       "    <tr>\n",
       "      <th>Studio</th>\n",
       "      <th>1</th>\n",
       "      <td>26.740000</td>\n",
       "    </tr>\n",
       "    <tr>\n",
       "      <th rowspan=\"5\" valign=\"top\">Villa</th>\n",
       "      <th>2</th>\n",
       "      <td>167.000000</td>\n",
       "    </tr>\n",
       "    <tr>\n",
       "      <th>3</th>\n",
       "      <td>194.384615</td>\n",
       "    </tr>\n",
       "    <tr>\n",
       "      <th>4</th>\n",
       "      <td>343.196721</td>\n",
       "    </tr>\n",
       "    <tr>\n",
       "      <th>5</th>\n",
       "      <td>450.444444</td>\n",
       "    </tr>\n",
       "    <tr>\n",
       "      <th>6</th>\n",
       "      <td>426.666667</td>\n",
       "    </tr>\n",
       "  </tbody>\n",
       "</table>\n",
       "</div>"
      ],
      "text/plain": [
       "                   price(in_lakhs)\n",
       "property_type BHK                 \n",
       "Apartment     1          31.487059\n",
       "              2          57.835700\n",
       "              3         104.910491\n",
       "              4         202.781250\n",
       "              5         388.666667\n",
       "              6         370.000000\n",
       "Independent   1          60.333333\n",
       "              2         105.916667\n",
       "              3         161.625000\n",
       "              4         150.392857\n",
       "              5         245.692308\n",
       "              6         179.375000\n",
       "              7         333.333333\n",
       "              8         218.333333\n",
       "              10        338.333333\n",
       "Studio        1          26.740000\n",
       "Villa         2         167.000000\n",
       "              3         194.384615\n",
       "              4         343.196721\n",
       "              5         450.444444\n",
       "              6         426.666667"
      ]
     },
     "execution_count": 54,
     "metadata": {},
     "output_type": "execute_result"
    }
   ],
   "source": [
    "pd.pivot_table(data=df,index=['property_type','BHK'],values=['price(in_lakhs)'])"
   ]
  },
  {
   "cell_type": "markdown",
   "id": "136bc57a",
   "metadata": {},
   "source": [
    "# 1.Bar plot"
   ]
  },
  {
   "cell_type": "code",
   "execution_count": 55,
   "id": "afc01551",
   "metadata": {},
   "outputs": [
    {
     "data": {
      "image/png": "[encoded data removed]",
      "text/plain": [
       "<Figure size 432x288 with 1 Axes>"
      ]
     },
     "metadata": {
      "needs_background": "light"
     },
     "output_type": "display_data"
    }
   ],
   "source": [
    "sns.barplot(x='property_type',y='price(in_lakhs)',hue=\"BHK\",data=df)\n",
    "plt.title('bar plot between property type and price')\n",
    "plt.show()"
   ]
  },
  {
   "cell_type": "markdown",
   "id": "5f133d6b",
   "metadata": {},
   "source": [
    "Observation : Villa with 6 BHK has more price nearly 500 lakhs(50 cr)\n",
    "              "
   ]
  },
  {
   "cell_type": "markdown",
   "id": "36499d27",
   "metadata": {},
   "source": [
    "# 2.Line chart"
   ]
  },
  {
   "cell_type": "code",
   "execution_count": 56,
   "id": "5cb9f06b",
   "metadata": {},
   "outputs": [
    {
     "data": {
      "image/png": "[encoded data removed]",
      "text/plain": [
       "<Figure size 432x288 with 1 Axes>"
      ]
     },
     "metadata": {
      "needs_background": "light"
     },
     "output_type": "display_data"
    }
   ],
   "source": [
    "sns.lineplot(x='BHK',y='price(in_lakhs)',data=df)\n",
    "plt.show()"
   ]
  },
  {
   "cell_type": "markdown",
   "id": "3a193f60",
   "metadata": {},
   "source": [
    "# 3.scatter plot"
   ]
  },
  {
   "cell_type": "code",
   "execution_count": 57,
   "id": "88e6e0ee",
   "metadata": {},
   "outputs": [
    {
     "data": {
      "image/png": "[encoded data removed]",
      "text/plain": [
       "<Figure size 432x288 with 1 Axes>"
      ]
     },
     "metadata": {
      "needs_background": "light"
     },
     "output_type": "display_data"
    }
   ],
   "source": [
    "plt.scatter(x='price(in_lakhs)',y='area',data=df)\n",
    "plt.show()"
   ]
  },
  {
   "cell_type": "markdown",
   "id": "2dcf0359",
   "metadata": {},
   "source": [
    "Observation : price and area are highly positively correlated"
   ]
  },
  {
   "cell_type": "markdown",
   "id": "3dde4eda",
   "metadata": {},
   "source": [
    "# 4.pair plot"
   ]
  },
  {
   "cell_type": "code",
   "execution_count": 58,
   "id": "deb09777",
   "metadata": {},
   "outputs": [
    {
     "data": {
      "image/png": "[encoded data removed]",
      "text/plain": [
       "<Figure size 819.25x720 with 20 Axes>"
      ]
     },
     "metadata": {
      "needs_background": "light"
     },
     "output_type": "display_data"
    }
   ],
   "source": [
    "sns.pairplot(data=df,hue='property_type')\n",
    "plt.show()"
   ]
  },
  {
   "cell_type": "markdown",
   "id": "5f8ee9c7",
   "metadata": {},
   "source": [
    "# comparing prices in some perticular locations"
   ]
  },
  {
   "cell_type": "code",
   "execution_count": 64,
   "id": "16c1fe3c",
   "metadata": {},
   "outputs": [],
   "source": [
    "loc=df['location'].value_counts()[0:10]"
   ]
  },
  {
   "cell_type": "code",
   "execution_count": 65,
   "id": "b4955f9a",
   "metadata": {},
   "outputs": [
    {
     "data": {
      "text/plain": [
       "Index(['Mallampet', 'Manikonda', 'Kollur', 'Bachupally', 'Tellapur', 'Miyapur',\n",
       "       'Tukkuguda', 'Kukatpally', 'Narsingi', 'Kondapur'],\n",
       "      dtype='object')"
      ]
     },
     "execution_count": 65,
     "metadata": {},
     "output_type": "execute_result"
    }
   ],
   "source": [
    "loc.index"
   ]
  },
  {
   "cell_type": "code",
   "execution_count": 66,
   "id": "06303b00",
   "metadata": {},
   "outputs": [],
   "source": [
    "df_loc=df[(df['location'].isin(loc.index))]"
   ]
  },
  {
   "cell_type": "code",
   "execution_count": 68,
   "id": "3c088b9d",
   "metadata": {},
   "outputs": [
    {
     "data": {
      "text/plain": [
       "(377, 10)"
      ]
     },
     "execution_count": 68,
     "metadata": {},
     "output_type": "execute_result"
    }
   ],
   "source": [
    "df_loc.shape"
   ]
  },
  {
   "cell_type": "code",
   "execution_count": 69,
   "id": "c2bffdfa",
   "metadata": {},
   "outputs": [
    {
     "data": {
      "text/html": [
       "<div>\n",
       "<style scoped>\n",
       "    .dataframe tbody tr th:only-of-type {\n",
       "        vertical-align: middle;\n",
       "    }\n",
       "\n",
       "    .dataframe tbody tr th {\n",
       "        vertical-align: top;\n",
       "    }\n",
       "\n",
       "    .dataframe thead th {\n",
       "        text-align: right;\n",
       "    }\n",
       "</style>\n",
       "<table border=\"1\" class=\"dataframe\">\n",
       "  <thead>\n",
       "    <tr style=\"text-align: right;\">\n",
       "      <th></th>\n",
       "      <th>location</th>\n",
       "    </tr>\n",
       "  </thead>\n",
       "  <tbody>\n",
       "    <tr>\n",
       "      <th>Mallampet</th>\n",
       "      <td>67</td>\n",
       "    </tr>\n",
       "    <tr>\n",
       "      <th>Manikonda</th>\n",
       "      <td>66</td>\n",
       "    </tr>\n",
       "    <tr>\n",
       "      <th>Kollur</th>\n",
       "      <td>46</td>\n",
       "    </tr>\n",
       "    <tr>\n",
       "      <th>Bachupally</th>\n",
       "      <td>34</td>\n",
       "    </tr>\n",
       "    <tr>\n",
       "      <th>Tellapur</th>\n",
       "      <td>29</td>\n",
       "    </tr>\n",
       "    <tr>\n",
       "      <th>Miyapur</th>\n",
       "      <td>28</td>\n",
       "    </tr>\n",
       "    <tr>\n",
       "      <th>Tukkuguda</th>\n",
       "      <td>28</td>\n",
       "    </tr>\n",
       "    <tr>\n",
       "      <th>Kukatpally</th>\n",
       "      <td>27</td>\n",
       "    </tr>\n",
       "    <tr>\n",
       "      <th>Narsingi</th>\n",
       "      <td>26</td>\n",
       "    </tr>\n",
       "    <tr>\n",
       "      <th>Kondapur</th>\n",
       "      <td>26</td>\n",
       "    </tr>\n",
       "  </tbody>\n",
       "</table>\n",
       "</div>"
      ],
      "text/plain": [
       "            location\n",
       "Mallampet         67\n",
       "Manikonda         66\n",
       "Kollur            46\n",
       "Bachupally        34\n",
       "Tellapur          29\n",
       "Miyapur           28\n",
       "Tukkuguda         28\n",
       "Kukatpally        27\n",
       "Narsingi          26\n",
       "Kondapur          26"
      ]
     },
     "execution_count": 69,
     "metadata": {},
     "output_type": "execute_result"
    }
   ],
   "source": [
    "df_loc['location'].value_counts().to_frame()"
   ]
  },
  {
   "cell_type": "code",
   "execution_count": 70,
   "id": "6fb4fbe3",
   "metadata": {},
   "outputs": [
    {
     "data": {
      "text/plain": [
       "<AxesSubplot:>"
      ]
     },
     "execution_count": 70,
     "metadata": {},
     "output_type": "execute_result"
    },
    {
     "data": {
      "image/png": "[encoded data removed]",
      "text/plain": [
       "<Figure size 432x288 with 1 Axes>"
      ]
     },
     "metadata": {
      "needs_background": "light"
     },
     "output_type": "display_data"
    }
   ],
   "source": [
    "df_loc['location'].value_counts().to_frame().plot(kind='bar')"
   ]
  },
  {
   "cell_type": "code",
   "execution_count": 71,
   "id": "eaceceba",
   "metadata": {},
   "outputs": [
    {
     "data": {
      "text/html": [
       "<div>\n",
       "<style scoped>\n",
       "    .dataframe tbody tr th:only-of-type {\n",
       "        vertical-align: middle;\n",
       "    }\n",
       "\n",
       "    .dataframe tbody tr th {\n",
       "        vertical-align: top;\n",
       "    }\n",
       "\n",
       "    .dataframe thead th {\n",
       "        text-align: right;\n",
       "    }\n",
       "</style>\n",
       "<table border=\"1\" class=\"dataframe\">\n",
       "  <thead>\n",
       "    <tr style=\"text-align: right;\">\n",
       "      <th></th>\n",
       "      <th></th>\n",
       "      <th>rate per sqft</th>\n",
       "    </tr>\n",
       "    <tr>\n",
       "      <th>location</th>\n",
       "      <th>BHK</th>\n",
       "      <th></th>\n",
       "    </tr>\n",
       "  </thead>\n",
       "  <tbody>\n",
       "    <tr>\n",
       "      <th rowspan=\"3\" valign=\"top\">Bachupally</th>\n",
       "      <th>2</th>\n",
       "      <td>4777.411765</td>\n",
       "    </tr>\n",
       "    <tr>\n",
       "      <th>3</th>\n",
       "      <td>5258.600000</td>\n",
       "    </tr>\n",
       "    <tr>\n",
       "      <th>4</th>\n",
       "      <td>7000.000000</td>\n",
       "    </tr>\n",
       "    <tr>\n",
       "      <th rowspan=\"3\" valign=\"top\">Kollur</th>\n",
       "      <th>2</th>\n",
       "      <td>4555.916667</td>\n",
       "    </tr>\n",
       "    <tr>\n",
       "      <th>3</th>\n",
       "      <td>4956.575758</td>\n",
       "    </tr>\n",
       "    <tr>\n",
       "      <th>4</th>\n",
       "      <td>3500.000000</td>\n",
       "    </tr>\n",
       "    <tr>\n",
       "      <th rowspan=\"4\" valign=\"top\">Kondapur</th>\n",
       "      <th>2</th>\n",
       "      <td>5887.444444</td>\n",
       "    </tr>\n",
       "    <tr>\n",
       "      <th>3</th>\n",
       "      <td>7301.866667</td>\n",
       "    </tr>\n",
       "    <tr>\n",
       "      <th>4</th>\n",
       "      <td>10052.000000</td>\n",
       "    </tr>\n",
       "    <tr>\n",
       "      <th>6</th>\n",
       "      <td>13392.000000</td>\n",
       "    </tr>\n",
       "    <tr>\n",
       "      <th rowspan=\"6\" valign=\"top\">Kukatpally</th>\n",
       "      <th>1</th>\n",
       "      <td>10644.333333</td>\n",
       "    </tr>\n",
       "    <tr>\n",
       "      <th>2</th>\n",
       "      <td>7522.000000</td>\n",
       "    </tr>\n",
       "    <tr>\n",
       "      <th>3</th>\n",
       "      <td>6296.083333</td>\n",
       "    </tr>\n",
       "    <tr>\n",
       "      <th>4</th>\n",
       "      <td>5714.000000</td>\n",
       "    </tr>\n",
       "    <tr>\n",
       "      <th>5</th>\n",
       "      <td>5777.000000</td>\n",
       "    </tr>\n",
       "    <tr>\n",
       "      <th>6</th>\n",
       "      <td>5471.375000</td>\n",
       "    </tr>\n",
       "    <tr>\n",
       "      <th rowspan=\"2\" valign=\"top\">Mallampet</th>\n",
       "      <th>2</th>\n",
       "      <td>4931.133333</td>\n",
       "    </tr>\n",
       "    <tr>\n",
       "      <th>3</th>\n",
       "      <td>4938.461538</td>\n",
       "    </tr>\n",
       "    <tr>\n",
       "      <th rowspan=\"2\" valign=\"top\">Manikonda</th>\n",
       "      <th>2</th>\n",
       "      <td>6005.550000</td>\n",
       "    </tr>\n",
       "    <tr>\n",
       "      <th>3</th>\n",
       "      <td>6124.282609</td>\n",
       "    </tr>\n",
       "    <tr>\n",
       "      <th rowspan=\"3\" valign=\"top\">Miyapur</th>\n",
       "      <th>1</th>\n",
       "      <td>3555.000000</td>\n",
       "    </tr>\n",
       "    <tr>\n",
       "      <th>2</th>\n",
       "      <td>5528.181818</td>\n",
       "    </tr>\n",
       "    <tr>\n",
       "      <th>3</th>\n",
       "      <td>5952.562500</td>\n",
       "    </tr>\n",
       "    <tr>\n",
       "      <th rowspan=\"4\" valign=\"top\">Narsingi</th>\n",
       "      <th>2</th>\n",
       "      <td>6883.000000</td>\n",
       "    </tr>\n",
       "    <tr>\n",
       "      <th>3</th>\n",
       "      <td>7782.750000</td>\n",
       "    </tr>\n",
       "    <tr>\n",
       "      <th>4</th>\n",
       "      <td>15536.200000</td>\n",
       "    </tr>\n",
       "    <tr>\n",
       "      <th>5</th>\n",
       "      <td>18000.000000</td>\n",
       "    </tr>\n",
       "    <tr>\n",
       "      <th rowspan=\"4\" valign=\"top\">Tellapur</th>\n",
       "      <th>2</th>\n",
       "      <td>5551.000000</td>\n",
       "    </tr>\n",
       "    <tr>\n",
       "      <th>3</th>\n",
       "      <td>6644.250000</td>\n",
       "    </tr>\n",
       "    <tr>\n",
       "      <th>4</th>\n",
       "      <td>7629.444444</td>\n",
       "    </tr>\n",
       "    <tr>\n",
       "      <th>5</th>\n",
       "      <td>6450.000000</td>\n",
       "    </tr>\n",
       "    <tr>\n",
       "      <th rowspan=\"4\" valign=\"top\">Tukkuguda</th>\n",
       "      <th>1</th>\n",
       "      <td>4549.000000</td>\n",
       "    </tr>\n",
       "    <tr>\n",
       "      <th>2</th>\n",
       "      <td>4550.500000</td>\n",
       "    </tr>\n",
       "    <tr>\n",
       "      <th>3</th>\n",
       "      <td>4549.285714</td>\n",
       "    </tr>\n",
       "    <tr>\n",
       "      <th>4</th>\n",
       "      <td>6500.000000</td>\n",
       "    </tr>\n",
       "  </tbody>\n",
       "</table>\n",
       "</div>"
      ],
      "text/plain": [
       "                rate per sqft\n",
       "location   BHK               \n",
       "Bachupally 2      4777.411765\n",
       "           3      5258.600000\n",
       "           4      7000.000000\n",
       "Kollur     2      4555.916667\n",
       "           3      4956.575758\n",
       "           4      3500.000000\n",
       "Kondapur   2      5887.444444\n",
       "           3      7301.866667\n",
       "           4     10052.000000\n",
       "           6     13392.000000\n",
       "Kukatpally 1     10644.333333\n",
       "           2      7522.000000\n",
       "           3      6296.083333\n",
       "           4      5714.000000\n",
       "           5      5777.000000\n",
       "           6      5471.375000\n",
       "Mallampet  2      4931.133333\n",
       "           3      4938.461538\n",
       "Manikonda  2      6005.550000\n",
       "           3      6124.282609\n",
       "Miyapur    1      3555.000000\n",
       "           2      5528.181818\n",
       "           3      5952.562500\n",
       "Narsingi   2      6883.000000\n",
       "           3      7782.750000\n",
       "           4     15536.200000\n",
       "           5     18000.000000\n",
       "Tellapur   2      5551.000000\n",
       "           3      6644.250000\n",
       "           4      7629.444444\n",
       "           5      6450.000000\n",
       "Tukkuguda  1      4549.000000\n",
       "           2      4550.500000\n",
       "           3      4549.285714\n",
       "           4      6500.000000"
      ]
     },
     "execution_count": 71,
     "metadata": {},
     "output_type": "execute_result"
    }
   ],
   "source": [
    "pd.pivot_table(data=df_loc,index=['location','BHK'],values=['rate per sqft'])"
   ]
  },
  {
   "cell_type": "code",
   "execution_count": 78,
   "id": "e9ddf99e",
   "metadata": {},
   "outputs": [
    {
     "data": {
      "text/plain": [
       "Text(0.5, 1.0, 'Bar plot Representation of locations')"
      ]
     },
     "execution_count": 78,
     "metadata": {},
     "output_type": "execute_result"
    },
    {
     "data": {
      "image/png": "[encoded data removed]",
      "text/plain": [
       "<Figure size 1296x432 with 1 Axes>"
      ]
     },
     "metadata": {
      "needs_background": "light"
     },
     "output_type": "display_data"
    }
   ],
   "source": [
    "#rate per sqft with BHK based on locations\n",
    "plt.figure(figsize=(18,6))\n",
    "sns.barplot(x='location', y='rate per sqft',hue='BHK' ,data=df_loc)\n",
    "plt.title('Bar plot Representation of locations')"
   ]
  },
  {
   "cell_type": "markdown",
   "id": "3781d0f2",
   "metadata": {},
   "source": [
    "observation : houses in Narsingi are more costly"
   ]
  },
  {
   "cell_type": "code",
   "execution_count": 73,
   "id": "4b5a1c45",
   "metadata": {},
   "outputs": [
    {
     "data": {
      "image/png": "[encoded data removed]",
      "text/plain": [
       "<Figure size 1080x504 with 1 Axes>"
      ]
     },
     "metadata": {
      "needs_background": "light"
     },
     "output_type": "display_data"
    }
   ],
   "source": [
    "plt.figure(figsize=(15,7))\n",
    "sns.boxplot(data=df_loc,x='location',y='price(in_lakhs)')\n",
    "plt.title('Boxplot Representation of locations')\n",
    "plt.show()"
   ]
  },
  {
   "cell_type": "markdown",
   "id": "ce9751ca",
   "metadata": {},
   "source": [
    " Observation : we can observe max and min cost of houses at each location"
   ]
  },
  {
   "cell_type": "code",
   "execution_count": 74,
   "id": "b6d43fe8",
   "metadata": {},
   "outputs": [
    {
     "data": {
      "text/html": [
       "<div>\n",
       "<style scoped>\n",
       "    .dataframe tbody tr th:only-of-type {\n",
       "        vertical-align: middle;\n",
       "    }\n",
       "\n",
       "    .dataframe tbody tr th {\n",
       "        vertical-align: top;\n",
       "    }\n",
       "\n",
       "    .dataframe thead th {\n",
       "        text-align: right;\n",
       "    }\n",
       "</style>\n",
       "<table border=\"1\" class=\"dataframe\">\n",
       "  <thead>\n",
       "    <tr style=\"text-align: right;\">\n",
       "      <th></th>\n",
       "      <th></th>\n",
       "      <th>price(in_lakhs)</th>\n",
       "    </tr>\n",
       "    <tr>\n",
       "      <th>location</th>\n",
       "      <th>property_type</th>\n",
       "      <th></th>\n",
       "    </tr>\n",
       "  </thead>\n",
       "  <tbody>\n",
       "    <tr>\n",
       "      <th rowspan=\"2\" valign=\"top\">Bachupally</th>\n",
       "      <th>Apartment</th>\n",
       "      <td>69.320645</td>\n",
       "    </tr>\n",
       "    <tr>\n",
       "      <th>Villa</th>\n",
       "      <td>163.000000</td>\n",
       "    </tr>\n",
       "    <tr>\n",
       "      <th rowspan=\"2\" valign=\"top\">Kollur</th>\n",
       "      <th>Apartment</th>\n",
       "      <td>81.244000</td>\n",
       "    </tr>\n",
       "    <tr>\n",
       "      <th>Villa</th>\n",
       "      <td>370.000000</td>\n",
       "    </tr>\n",
       "    <tr>\n",
       "      <th rowspan=\"2\" valign=\"top\">Kondapur</th>\n",
       "      <th>Apartment</th>\n",
       "      <td>121.385200</td>\n",
       "    </tr>\n",
       "    <tr>\n",
       "      <th>Villa</th>\n",
       "      <td>750.000000</td>\n",
       "    </tr>\n",
       "    <tr>\n",
       "      <th rowspan=\"2\" valign=\"top\">Kukatpally</th>\n",
       "      <th>Apartment</th>\n",
       "      <td>100.472000</td>\n",
       "    </tr>\n",
       "    <tr>\n",
       "      <th>Independent</th>\n",
       "      <td>163.250000</td>\n",
       "    </tr>\n",
       "    <tr>\n",
       "      <th>Mallampet</th>\n",
       "      <th>Apartment</th>\n",
       "      <td>70.230149</td>\n",
       "    </tr>\n",
       "    <tr>\n",
       "      <th>Manikonda</th>\n",
       "      <th>Apartment</th>\n",
       "      <td>101.630455</td>\n",
       "    </tr>\n",
       "    <tr>\n",
       "      <th>Miyapur</th>\n",
       "      <th>Apartment</th>\n",
       "      <td>84.564286</td>\n",
       "    </tr>\n",
       "    <tr>\n",
       "      <th rowspan=\"2\" valign=\"top\">Narsingi</th>\n",
       "      <th>Apartment</th>\n",
       "      <td>110.963333</td>\n",
       "    </tr>\n",
       "    <tr>\n",
       "      <th>Villa</th>\n",
       "      <td>729.250000</td>\n",
       "    </tr>\n",
       "    <tr>\n",
       "      <th rowspan=\"3\" valign=\"top\">Tellapur</th>\n",
       "      <th>Apartment</th>\n",
       "      <td>237.950000</td>\n",
       "    </tr>\n",
       "    <tr>\n",
       "      <th>Independent</th>\n",
       "      <td>269.333333</td>\n",
       "    </tr>\n",
       "    <tr>\n",
       "      <th>Villa</th>\n",
       "      <td>343.166667</td>\n",
       "    </tr>\n",
       "    <tr>\n",
       "      <th rowspan=\"2\" valign=\"top\">Tukkuguda</th>\n",
       "      <th>Apartment</th>\n",
       "      <td>69.156875</td>\n",
       "    </tr>\n",
       "    <tr>\n",
       "      <th>Villa</th>\n",
       "      <td>279.000000</td>\n",
       "    </tr>\n",
       "  </tbody>\n",
       "</table>\n",
       "</div>"
      ],
      "text/plain": [
       "                          price(in_lakhs)\n",
       "location   property_type                 \n",
       "Bachupally Apartment            69.320645\n",
       "           Villa               163.000000\n",
       "Kollur     Apartment            81.244000\n",
       "           Villa               370.000000\n",
       "Kondapur   Apartment           121.385200\n",
       "           Villa               750.000000\n",
       "Kukatpally Apartment           100.472000\n",
       "           Independent         163.250000\n",
       "Mallampet  Apartment            70.230149\n",
       "Manikonda  Apartment           101.630455\n",
       "Miyapur    Apartment            84.564286\n",
       "Narsingi   Apartment           110.963333\n",
       "           Villa               729.250000\n",
       "Tellapur   Apartment           237.950000\n",
       "           Independent         269.333333\n",
       "           Villa               343.166667\n",
       "Tukkuguda  Apartment            69.156875\n",
       "           Villa               279.000000"
      ]
     },
     "execution_count": 74,
     "metadata": {},
     "output_type": "execute_result"
    }
   ],
   "source": [
    "pd.pivot_table(data=df_loc,index=['location','property_type'],values=['price(in_lakhs)'])"
   ]
  },
  {
   "cell_type": "markdown",
   "id": "8c101048",
   "metadata": {},
   "source": [
    "# Relation plot:"
   ]
  },
  {
   "cell_type": "code",
   "execution_count": 75,
   "id": "d8446eb4",
   "metadata": {},
   "outputs": [
    {
     "data": {
      "text/plain": [
       "<seaborn.axisgrid.FacetGrid at 0x18ab40665e0>"
      ]
     },
     "execution_count": 75,
     "metadata": {},
     "output_type": "execute_result"
    },
    {
     "data": {
      "text/plain": [
       "<Figure size 432x288 with 0 Axes>"
      ]
     },
     "metadata": {},
     "output_type": "display_data"
    },
    {
     "data": {
      "image/png": "[encoded data removed]",
      "text/plain": [
       "<Figure size 459.25x360 with 1 Axes>"
      ]
     },
     "metadata": {
      "needs_background": "light"
     },
     "output_type": "display_data"
    }
   ],
   "source": [
    "plt.figure(figsize=(6,4))\n",
    "sns.relplot(x=\"area\",y=\"rate per sqft\",color='k',hue='property_type',data=df_loc)"
   ]
  },
  {
   "cell_type": "markdown",
   "id": "7360b55e",
   "metadata": {},
   "source": [
    "# heatmap:"
   ]
  },
  {
   "cell_type": "code",
   "execution_count": 67,
   "id": "24fca5dd",
   "metadata": {},
   "outputs": [
    {
     "data": {
      "image/png": "[encoded data removed]",
      "text/plain": [
       "<Figure size 432x288 with 2 Axes>"
      ]
     },
     "metadata": {
      "needs_background": "light"
     },
     "output_type": "display_data"
    }
   ],
   "source": [
    "sns.heatmap(df.corr(), annot=True)\n",
    "plt.show()"
   ]
  },
  {
   "cell_type": "code",
   "execution_count": 68,
   "id": "68c17d8a",
   "metadata": {},
   "outputs": [
    {
     "data": {
      "text/html": [
       "<div>\n",
       "<style scoped>\n",
       "    .dataframe tbody tr th:only-of-type {\n",
       "        vertical-align: middle;\n",
       "    }\n",
       "\n",
       "    .dataframe tbody tr th {\n",
       "        vertical-align: top;\n",
       "    }\n",
       "\n",
       "    .dataframe thead th {\n",
       "        text-align: right;\n",
       "    }\n",
       "</style>\n",
       "<table border=\"1\" class=\"dataframe\">\n",
       "  <thead>\n",
       "    <tr style=\"text-align: right;\">\n",
       "      <th></th>\n",
       "      <th>rate per sqft</th>\n",
       "      <th>area</th>\n",
       "      <th>BHK</th>\n",
       "      <th>price(in_lakhs)</th>\n",
       "    </tr>\n",
       "  </thead>\n",
       "  <tbody>\n",
       "    <tr>\n",
       "      <th>rate per sqft</th>\n",
       "      <td>1.000000</td>\n",
       "      <td>0.133092</td>\n",
       "      <td>0.099395</td>\n",
       "      <td>0.553890</td>\n",
       "    </tr>\n",
       "    <tr>\n",
       "      <th>area</th>\n",
       "      <td>0.133092</td>\n",
       "      <td>1.000000</td>\n",
       "      <td>0.815617</td>\n",
       "      <td>0.725857</td>\n",
       "    </tr>\n",
       "    <tr>\n",
       "      <th>BHK</th>\n",
       "      <td>0.099395</td>\n",
       "      <td>0.815617</td>\n",
       "      <td>1.000000</td>\n",
       "      <td>0.542736</td>\n",
       "    </tr>\n",
       "    <tr>\n",
       "      <th>price(in_lakhs)</th>\n",
       "      <td>0.553890</td>\n",
       "      <td>0.725857</td>\n",
       "      <td>0.542736</td>\n",
       "      <td>1.000000</td>\n",
       "    </tr>\n",
       "  </tbody>\n",
       "</table>\n",
       "</div>"
      ],
      "text/plain": [
       "                 rate per sqft      area       BHK  price(in_lakhs)\n",
       "rate per sqft         1.000000  0.133092  0.099395         0.553890\n",
       "area                  0.133092  1.000000  0.815617         0.725857\n",
       "BHK                   0.099395  0.815617  1.000000         0.542736\n",
       "price(in_lakhs)       0.553890  0.725857  0.542736         1.000000"
      ]
     },
     "execution_count": 68,
     "metadata": {},
     "output_type": "execute_result"
    }
   ],
   "source": [
    "df.corr()"
   ]
  },
  {
   "cell_type": "markdown",
   "id": "c9021576",
   "metadata": {},
   "source": [
    "# comparing rate by seller"
   ]
  },
  {
   "cell_type": "code",
   "execution_count": 69,
   "id": "8cd19bd9",
   "metadata": {},
   "outputs": [
    {
     "data": {
      "text/html": [
       "<div>\n",
       "<style scoped>\n",
       "    .dataframe tbody tr th:only-of-type {\n",
       "        vertical-align: middle;\n",
       "    }\n",
       "\n",
       "    .dataframe tbody tr th {\n",
       "        vertical-align: top;\n",
       "    }\n",
       "\n",
       "    .dataframe thead th {\n",
       "        text-align: right;\n",
       "    }\n",
       "</style>\n",
       "<table border=\"1\" class=\"dataframe\">\n",
       "  <thead>\n",
       "    <tr style=\"text-align: right;\">\n",
       "      <th></th>\n",
       "      <th>seller</th>\n",
       "    </tr>\n",
       "  </thead>\n",
       "  <tbody>\n",
       "    <tr>\n",
       "      <th>seller</th>\n",
       "      <td>145</td>\n",
       "    </tr>\n",
       "    <tr>\n",
       "      <th>EAPL Group</th>\n",
       "      <td>64</td>\n",
       "    </tr>\n",
       "    <tr>\n",
       "      <th>Anuhar Homes Pvt Ltd</th>\n",
       "      <td>40</td>\n",
       "    </tr>\n",
       "    <tr>\n",
       "      <th>Riddhi Group</th>\n",
       "      <td>32</td>\n",
       "    </tr>\n",
       "    <tr>\n",
       "      <th>Risinia Builders</th>\n",
       "      <td>20</td>\n",
       "    </tr>\n",
       "    <tr>\n",
       "      <th>M Kartheek</th>\n",
       "      <td>19</td>\n",
       "    </tr>\n",
       "    <tr>\n",
       "      <th>Ramky Estates Farms Ltd</th>\n",
       "      <td>16</td>\n",
       "    </tr>\n",
       "    <tr>\n",
       "      <th>Signature Avenues</th>\n",
       "      <td>10</td>\n",
       "    </tr>\n",
       "    <tr>\n",
       "      <th>Vessella Group</th>\n",
       "      <td>8</td>\n",
       "    </tr>\n",
       "    <tr>\n",
       "      <th>GHR Infra</th>\n",
       "      <td>7</td>\n",
       "    </tr>\n",
       "    <tr>\n",
       "      <th>BSCPL Infrastructure Ltd</th>\n",
       "      <td>5</td>\n",
       "    </tr>\n",
       "    <tr>\n",
       "      <th>Hallmark Builders</th>\n",
       "      <td>4</td>\n",
       "    </tr>\n",
       "    <tr>\n",
       "      <th>Tribhuja Realty</th>\n",
       "      <td>3</td>\n",
       "    </tr>\n",
       "    <tr>\n",
       "      <th>Vasavi Group</th>\n",
       "      <td>2</td>\n",
       "    </tr>\n",
       "    <tr>\n",
       "      <th>Vajra Builders And Developers</th>\n",
       "      <td>2</td>\n",
       "    </tr>\n",
       "  </tbody>\n",
       "</table>\n",
       "</div>"
      ],
      "text/plain": [
       "                               seller\n",
       "seller                            145\n",
       "EAPL Group                         64\n",
       "Anuhar Homes Pvt Ltd               40\n",
       "Riddhi Group                       32\n",
       "Risinia Builders                   20\n",
       "M Kartheek                         19\n",
       "Ramky Estates Farms Ltd            16\n",
       "Signature Avenues                  10\n",
       "Vessella Group                      8\n",
       "GHR Infra                           7\n",
       "BSCPL Infrastructure Ltd            5\n",
       "Hallmark Builders                   4\n",
       "Tribhuja Realty                     3\n",
       "Vasavi Group                        2\n",
       "Vajra Builders And Developers       2"
      ]
     },
     "execution_count": 69,
     "metadata": {},
     "output_type": "execute_result"
    }
   ],
   "source": [
    "df_loc['seller'].value_counts().to_frame()"
   ]
  },
  {
   "cell_type": "code",
   "execution_count": 70,
   "id": "7bc04f39",
   "metadata": {},
   "outputs": [
    {
     "data": {
      "text/plain": [
       "<AxesSubplot:>"
      ]
     },
     "execution_count": 70,
     "metadata": {},
     "output_type": "execute_result"
    },
    {
     "data": {
      "image/png": "[encoded data removed]",
      "text/plain": [
       "<Figure size 432x288 with 1 Axes>"
      ]
     },
     "metadata": {
      "needs_background": "light"
     },
     "output_type": "display_data"
    }
   ],
   "source": [
    "df_loc['seller'].value_counts().to_frame().plot(kind='bar')"
   ]
  },
  {
   "cell_type": "code",
   "execution_count": 71,
   "id": "9a483730",
   "metadata": {},
   "outputs": [
    {
     "data": {
      "image/png": "[encoded data removed]",
      "text/plain": [
       "<Figure size 432x288 with 1 Axes>"
      ]
     },
     "metadata": {
      "needs_background": "light"
     },
     "output_type": "display_data"
    }
   ],
   "source": [
    "df_loc.groupby('seller')['price(in_lakhs)'].max().to_frame().plot(kind='bar')\n",
    "plt.title('prices of houses by sellers')\n",
    "plt.show()"
   ]
  },
  {
   "cell_type": "markdown",
   "id": "6b8e2df7",
   "metadata": {},
   "source": [
    "Observation : the 'Vessella Group' is selling the houses for more prices"
   ]
  },
  {
   "cell_type": "code",
   "execution_count": 72,
   "id": "3ba0ff9e",
   "metadata": {},
   "outputs": [
    {
     "data": {
      "text/html": [
       "<div>\n",
       "<style scoped>\n",
       "    .dataframe tbody tr th:only-of-type {\n",
       "        vertical-align: middle;\n",
       "    }\n",
       "\n",
       "    .dataframe tbody tr th {\n",
       "        vertical-align: top;\n",
       "    }\n",
       "\n",
       "    .dataframe thead th {\n",
       "        text-align: right;\n",
       "    }\n",
       "</style>\n",
       "<table border=\"1\" class=\"dataframe\">\n",
       "  <thead>\n",
       "    <tr style=\"text-align: right;\">\n",
       "      <th></th>\n",
       "      <th>property_type</th>\n",
       "    </tr>\n",
       "    <tr>\n",
       "      <th>seller</th>\n",
       "      <th></th>\n",
       "    </tr>\n",
       "  </thead>\n",
       "  <tbody>\n",
       "    <tr>\n",
       "      <th>Anuhar Homes Pvt Ltd</th>\n",
       "      <td>[Apartment]</td>\n",
       "    </tr>\n",
       "    <tr>\n",
       "      <th>BSCPL Infrastructure Ltd</th>\n",
       "      <td>[Apartment]</td>\n",
       "    </tr>\n",
       "    <tr>\n",
       "      <th>EAPL Group</th>\n",
       "      <td>[Apartment]</td>\n",
       "    </tr>\n",
       "    <tr>\n",
       "      <th>GHR Infra</th>\n",
       "      <td>[Apartment]</td>\n",
       "    </tr>\n",
       "    <tr>\n",
       "      <th>Hallmark Builders</th>\n",
       "      <td>[Apartment]</td>\n",
       "    </tr>\n",
       "    <tr>\n",
       "      <th>M Kartheek</th>\n",
       "      <td>[Apartment, Independent]</td>\n",
       "    </tr>\n",
       "    <tr>\n",
       "      <th>Ramky Estates Farms Ltd</th>\n",
       "      <td>[Apartment]</td>\n",
       "    </tr>\n",
       "    <tr>\n",
       "      <th>Riddhi Group</th>\n",
       "      <td>[Apartment, Villa]</td>\n",
       "    </tr>\n",
       "    <tr>\n",
       "      <th>Risinia Builders</th>\n",
       "      <td>[Apartment]</td>\n",
       "    </tr>\n",
       "    <tr>\n",
       "      <th>Signature Avenues</th>\n",
       "      <td>[Apartment]</td>\n",
       "    </tr>\n",
       "    <tr>\n",
       "      <th>Tribhuja Realty</th>\n",
       "      <td>[Apartment]</td>\n",
       "    </tr>\n",
       "    <tr>\n",
       "      <th>Vajra Builders And Developers</th>\n",
       "      <td>[Villa]</td>\n",
       "    </tr>\n",
       "    <tr>\n",
       "      <th>Vasavi Group</th>\n",
       "      <td>[Apartment]</td>\n",
       "    </tr>\n",
       "    <tr>\n",
       "      <th>Vessella Group</th>\n",
       "      <td>[Villa]</td>\n",
       "    </tr>\n",
       "    <tr>\n",
       "      <th>seller</th>\n",
       "      <td>[Apartment, Villa, Independent]</td>\n",
       "    </tr>\n",
       "  </tbody>\n",
       "</table>\n",
       "</div>"
      ],
      "text/plain": [
       "                                                 property_type\n",
       "seller                                                        \n",
       "Anuhar Homes Pvt Ltd                               [Apartment]\n",
       "BSCPL Infrastructure Ltd                           [Apartment]\n",
       "EAPL Group                                         [Apartment]\n",
       "GHR Infra                                          [Apartment]\n",
       "Hallmark Builders                                  [Apartment]\n",
       "M Kartheek                            [Apartment, Independent]\n",
       "Ramky Estates Farms Ltd                            [Apartment]\n",
       "Riddhi Group                                [Apartment, Villa]\n",
       "Risinia Builders                                   [Apartment]\n",
       "Signature Avenues                                  [Apartment]\n",
       "Tribhuja Realty                                    [Apartment]\n",
       "Vajra Builders And Developers                          [Villa]\n",
       "Vasavi Group                                       [Apartment]\n",
       "Vessella Group                                         [Villa]\n",
       "seller                         [Apartment, Villa, Independent]"
      ]
     },
     "execution_count": 72,
     "metadata": {},
     "output_type": "execute_result"
    }
   ],
   "source": [
    "df_loc.groupby('seller')['property_type'].unique().to_frame()"
   ]
  },
  {
   "cell_type": "markdown",
   "id": "e2b3df13",
   "metadata": {},
   "source": [
    "# Bubble plot:"
   ]
  },
  {
   "cell_type": "code",
   "execution_count": 73,
   "id": "48b0e7d9",
   "metadata": {},
   "outputs": [
    {
     "data": {
      "text/plain": [
       "Text(0.5, 1.0, 'Bubble plot of area / rate per sqft of sellers in locations')"
      ]
     },
     "execution_count": 73,
     "metadata": {},
     "output_type": "execute_result"
    },
    {
     "data": {
      "image/png": "[encoded data removed]",
      "text/plain": [
       "<Figure size 576x432 with 1 Axes>"
      ]
     },
     "metadata": {
      "needs_background": "light"
     },
     "output_type": "display_data"
    }
   ],
   "source": [
    "plt.figure(figsize=(8,6))\n",
    "sns.scatterplot(x='area', y='rate per sqft',size='seller', hue='location',sizes=(300,500),alpha=1.0,\n",
    "                data=df_loc)\n",
    "plt.title('Bubble plot of area / rate per sqft of sellers in locations')"
   ]
  },
  {
   "cell_type": "code",
   "execution_count": null,
   "id": "ab58bb10",
   "metadata": {},
   "outputs": [],
   "source": []
  },
  {
   "cell_type": "code",
   "execution_count": null,
   "id": "ba5a4535",
   "metadata": {},
   "outputs": [],
   "source": []
  }
 ],
 "metadata": {
  "kernelspec": {
   "display_name": "Python 3 (ipykernel)",
   "language": "python",
   "name": "python3"
  },
  "language_info": {
   "codemirror_mode": {
    "name": "ipython",
    "version": 3
   },
   "file_extension": ".py",
   "mimetype": "text/x-python",
   "name": "python",
   "nbconvert_exporter": "python",
   "pygments_lexer": "ipython3",
   "version": "3.9.7"
  }
 },
 "nbformat": 4,
 "nbformat_minor": 5
}
